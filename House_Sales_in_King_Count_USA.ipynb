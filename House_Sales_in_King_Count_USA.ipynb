{
 "cells": [
  {
   "cell_type": "markdown",
   "metadata": {},
   "source": [
    "<p style=\"text-align:center\">\n",
    "    <a href=\"https://skills.network/?utm_medium=Exinfluencer&utm_source=Exinfluencer&utm_content=000026UJ&utm_term=10006555&utm_id=NA-SkillsNetwork-Channel-SkillsNetworkCoursesIBMDeveloperSkillsNetworkML0101ENSkillsNetwork20718538-2022-01-01\" target=\"_blank\">\n",
    "    <img src=\"https://cf-courses-data.s3.us.cloud-object-storage.appdomain.cloud/assets/logos/SN_web_lightmode.png\" width=\"300\" alt=\"Skills Network Logo\">\n",
    "    </a>\n",
    "</p>\n",
    "\n",
    "<h1 align=\"center\"><font size=\"5\">Final Project: House Sales in King County, USA </font></h1>\n"
   ]
  },
  {
   "cell_type": "markdown",
   "metadata": {},
   "source": [
    "<h2>Table of Contents</h2>\n",
    "<div class=\"alert alert-block alert-info\" style=\"margin-top: 20px\">\n",
    "    <ul>\n",
    "    <li><a href=\"#Instructions\">Instructions</a></li>\n",
    "    <li><a href=\"#About-the-Dataset\">About the Dataset</a></li>\n",
    "    <li><a href=\"#Module-1:-Importing-Data-Sets\">Module 1: Importing Data </a></li>\n",
    "    <li><a href=\"#Module-2:-Data-Wrangling\">Module 2: Data Wrangling</a> </li>\n",
    "    <li><a href=\"#Module-3:-Exploratory-Data-Analysis\">Module 3: Exploratory Data Analysis</a></li>\n",
    "    <li><a href=\"#Module-4:-Model-Development\">Module 4: Model Development</a></li>\n",
    "    <li><a href=\"#Module-5:-Model-Evaluation-and-Refinement\">Module 5: Model Evaluation and Refinement</a></li>\n",
    "</a></li>\n",
    "</div>\n",
    "<p>Estimated Time Needed: <strong>75 min</strong></p>\n",
    "</div>\n",
    "\n",
    "<hr>\n"
   ]
  },
  {
   "cell_type": "markdown",
   "metadata": {},
   "source": [
    "# Instructions\n"
   ]
  },
  {
   "cell_type": "markdown",
   "metadata": {},
   "source": [
    "In this assignment, you are a Data Analyst working at a Real Estate Investment Trust. The Trust would like to start investing in Residential real estate. You are tasked with determining the market price of a house given a set of features. You will analyze and predict housing prices using attributes or features such as square footage, number of bedrooms, number of floors, and so on. This is a template notebook; your job is to complete the ten questions. Some hints to the questions are given.\n",
    "\n",
    "As you are completing this notebook, take and save the **screenshots** of the final outputs of your solutions (e.g., final charts, tables, calculation results etc.). They will need to be shared in the following Peer Review section of the Final Project module.\n"
   ]
  },
  {
   "cell_type": "markdown",
   "metadata": {},
   "source": [
    "# About the Dataset\n",
    "\n",
    "This dataset contains house sale prices for King County, which includes Seattle. It includes homes sold between May 2014 and May 2015. It was taken from [here](https://www.kaggle.com/harlfoxem/housesalesprediction?utm_medium=Exinfluencer&utm_source=Exinfluencer&utm_content=000026UJ&utm_term=10006555&utm_id=NA-SkillsNetwork-wwwcourseraorg-SkillsNetworkCoursesIBMDeveloperSkillsNetworkDA0101ENSkillsNetwork20235326-2022-01-01). It was also slightly modified for the purposes of this course. \n"
   ]
  },
  {
   "cell_type": "markdown",
   "metadata": {},
   "source": [
    "| Variable      | Description                                                                                                 |\n",
    "| ------------- | ----------------------------------------------------------------------------------------------------------- |\n",
    "| id            | A notation for a house                                                                                      |\n",
    "| date          | Date house was sold                                                                                         |\n",
    "| price         | Price is prediction target                                                                                  |\n",
    "| bedrooms      | Number of bedrooms                                                                                          |\n",
    "| bathrooms     | Number of bathrooms                                                                                         |\n",
    "| sqft_living   | Square footage of the home                                                                                  |\n",
    "| sqft_lot      | Square footage of the lot                                                                                   |\n",
    "| floors        | Total floors (levels) in house                                                                              |\n",
    "| waterfront    | House which has a view to a waterfront                                                                      |\n",
    "| view          | Has been viewed                                                                                             |\n",
    "| condition     | How good the condition is overall                                                                           |\n",
    "| grade         | overall grade given to the housing unit, based on King County grading system                                |\n",
    "| sqft_above    | Square footage of house apart from basement                                                                 |\n",
    "| sqft_basement | Square footage of the basement                                                                              |\n",
    "| yr_built      | Built Year                                                                                                  |\n",
    "| yr_renovated  | Year when house was renovated                                                                               |\n",
    "| zipcode       | Zip code                                                                                                    |\n",
    "| lat           | Latitude coordinate                                                                                         |\n",
    "| long          | Longitude coordinate                                                                                        |\n",
    "| sqft_living15 | Living room area in 2015(implies-- some renovations) This might or might not have affected the lotsize area |\n",
    "| sqft_lot15    | LotSize area in 2015(implies-- some renovations)                                                            |\n"
   ]
  },
  {
   "cell_type": "markdown",
   "metadata": {},
   "source": [
    "## **Import the required libraries**\n"
   ]
  },
  {
   "cell_type": "code",
   "execution_count": null,
   "metadata": {},
   "outputs": [],
   "source": [
    "# All Libraries required for this lab are listed below. The libraries pre-installed on Skills Network Labs are commented.\n",
    "# !mamba install -qy pandas==1.3.4 numpy==1.21.4 seaborn==0.9.0 matplotlib==3.5.0 scikit-learn==0.20.1\n",
    "# Note: If your environment doesn't support \"!mamba install\", use \"!pip install\""
   ]
  },
  {
   "cell_type": "code",
   "execution_count": 1,
   "metadata": {
    "trusted": true
   },
   "outputs": [],
   "source": [
    "# Surpress warnings:\n",
    "def warn(*args, **kwargs):\n",
    "    pass\n",
    "import warnings\n",
    "warnings.warn = warn"
   ]
  },
  {
   "cell_type": "code",
   "execution_count": 3,
   "metadata": {
    "trusted": true
   },
   "outputs": [
    {
     "name": "stdout",
     "output_type": "stream",
     "text": [
      "Collecting scikit-learn\n",
      "  Downloading scikit_learn-1.5.2-cp39-cp39-win_amd64.whl (11.0 MB)\n",
      "                                              0.0/11.0 MB ? eta -:--:--\n",
      "                                              0.0/11.0 MB ? eta -:--:--\n",
      "                                             0.0/11.0 MB 330.3 kB/s eta 0:00:34\n",
      "                                             0.0/11.0 MB 330.3 kB/s eta 0:00:34\n",
      "                                             0.0/11.0 MB 330.3 kB/s eta 0:00:34\n",
      "                                             0.0/11.0 MB 330.3 kB/s eta 0:00:34\n",
      "                                             0.1/11.0 MB 192.5 kB/s eta 0:00:57\n",
      "                                             0.1/11.0 MB 262.6 kB/s eta 0:00:42\n",
      "                                             0.1/11.0 MB 262.6 kB/s eta 0:00:42\n",
      "                                             0.1/11.0 MB 262.6 kB/s eta 0:00:42\n",
      "                                             0.1/11.0 MB 248.7 kB/s eta 0:00:44\n",
      "                                             0.2/11.0 MB 327.7 kB/s eta 0:00:34\n",
      "                                             0.2/11.0 MB 393.1 kB/s eta 0:00:28\n",
      "                                             0.2/11.0 MB 400.9 kB/s eta 0:00:27\n",
      "                                             0.3/11.0 MB 383.4 kB/s eta 0:00:29\n",
      "     -                                       0.3/11.0 MB 477.0 kB/s eta 0:00:23\n",
      "     -                                       0.4/11.0 MB 572.0 kB/s eta 0:00:19\n",
      "     -                                       0.5/11.0 MB 642.5 kB/s eta 0:00:17\n",
      "     -                                       0.5/11.0 MB 642.5 kB/s eta 0:00:17\n",
      "     --                                      0.6/11.0 MB 643.7 kB/s eta 0:00:17\n",
      "     --                                      0.7/11.0 MB 788.5 kB/s eta 0:00:14\n",
      "     ---                                     0.9/11.0 MB 951.1 kB/s eta 0:00:11\n",
      "     ---                                      1.0/11.0 MB 1.0 MB/s eta 0:00:10\n",
      "     ---                                      1.0/11.0 MB 1.0 MB/s eta 0:00:10\n",
      "     ----                                     1.3/11.0 MB 1.1 MB/s eta 0:00:09\n",
      "     -----                                    1.6/11.0 MB 1.4 MB/s eta 0:00:07\n",
      "     -------                                  1.9/11.0 MB 1.6 MB/s eta 0:00:06\n",
      "     -------                                  2.1/11.0 MB 1.7 MB/s eta 0:00:06\n",
      "     -------                                  2.2/11.0 MB 1.7 MB/s eta 0:00:06\n",
      "     ---------                                2.7/11.0 MB 2.0 MB/s eta 0:00:05\n",
      "     ------------                             3.4/11.0 MB 2.4 MB/s eta 0:00:04\n",
      "     --------------                           3.9/11.0 MB 2.8 MB/s eta 0:00:03\n",
      "     ---------------                          4.2/11.0 MB 2.9 MB/s eta 0:00:03\n",
      "     -----------------                        4.7/11.0 MB 3.1 MB/s eta 0:00:03\n",
      "     ---------------------                    5.8/11.0 MB 3.7 MB/s eta 0:00:02\n",
      "     ---------------------                    5.8/11.0 MB 3.7 MB/s eta 0:00:02\n",
      "     ---------------------                    5.8/11.0 MB 3.7 MB/s eta 0:00:02\n",
      "     ---------------------                    5.8/11.0 MB 3.7 MB/s eta 0:00:02\n",
      "     ---------------------                    5.8/11.0 MB 3.7 MB/s eta 0:00:02\n",
      "     ---------------------                    5.9/11.0 MB 3.3 MB/s eta 0:00:02\n",
      "     ---------------------                    5.9/11.0 MB 3.3 MB/s eta 0:00:02\n",
      "     ---------------------                    5.9/11.0 MB 3.3 MB/s eta 0:00:02\n",
      "     ---------------------                    5.9/11.0 MB 3.3 MB/s eta 0:00:02\n",
      "     ---------------------                    5.9/11.0 MB 3.3 MB/s eta 0:00:02\n",
      "     ------------------------                 6.7/11.0 MB 3.3 MB/s eta 0:00:02\n",
      "     ------------------------                 6.7/11.0 MB 3.3 MB/s eta 0:00:02\n",
      "     ------------------------                 6.7/11.0 MB 3.3 MB/s eta 0:00:02\n",
      "     ------------------------                 6.7/11.0 MB 3.3 MB/s eta 0:00:02\n",
      "     ------------------------                 6.9/11.0 MB 3.1 MB/s eta 0:00:02\n",
      "     -------------------------                7.1/11.0 MB 3.2 MB/s eta 0:00:02\n",
      "     -------------------------                7.1/11.0 MB 3.2 MB/s eta 0:00:02\n",
      "     -------------------------                7.1/11.0 MB 3.2 MB/s eta 0:00:02\n",
      "     -------------------------                7.1/11.0 MB 3.2 MB/s eta 0:00:02\n",
      "     ---------------------------              7.5/11.0 MB 3.1 MB/s eta 0:00:02\n",
      "     ---------------------------              7.6/11.0 MB 3.1 MB/s eta 0:00:02\n",
      "     ---------------------------              7.6/11.0 MB 3.1 MB/s eta 0:00:02\n",
      "     ---------------------------              7.6/11.0 MB 3.1 MB/s eta 0:00:02\n",
      "     ---------------------------              7.6/11.0 MB 3.1 MB/s eta 0:00:02\n",
      "     -----------------------------            8.2/11.0 MB 3.1 MB/s eta 0:00:01\n",
      "     -----------------------------            8.2/11.0 MB 3.1 MB/s eta 0:00:01\n",
      "     -----------------------------            8.2/11.0 MB 3.1 MB/s eta 0:00:01\n",
      "     -----------------------------            8.2/11.0 MB 3.1 MB/s eta 0:00:01\n",
      "     ------------------------------           8.5/11.0 MB 3.0 MB/s eta 0:00:01\n",
      "     --------------------------------         8.9/11.0 MB 3.1 MB/s eta 0:00:01\n",
      "     --------------------------------         8.9/11.0 MB 3.1 MB/s eta 0:00:01\n",
      "     --------------------------------         8.9/11.0 MB 3.1 MB/s eta 0:00:01\n",
      "     --------------------------------         8.9/11.0 MB 3.1 MB/s eta 0:00:01\n",
      "     ----------------------------------       9.5/11.0 MB 3.1 MB/s eta 0:00:01\n",
      "     ----------------------------------       9.6/11.0 MB 3.1 MB/s eta 0:00:01\n",
      "     ----------------------------------       9.6/11.0 MB 3.1 MB/s eta 0:00:01\n",
      "     ----------------------------------       9.6/11.0 MB 3.1 MB/s eta 0:00:01\n",
      "     -----------------------------------      9.7/11.0 MB 2.9 MB/s eta 0:00:01\n",
      "     -------------------------------------    10.2/11.0 MB 3.1 MB/s eta 0:00:01\n",
      "     -------------------------------------    10.3/11.0 MB 3.1 MB/s eta 0:00:01\n",
      "     -------------------------------------    10.3/11.0 MB 3.1 MB/s eta 0:00:01\n",
      "     -------------------------------------    10.3/11.0 MB 3.1 MB/s eta 0:00:01\n",
      "     --------------------------------------   10.5/11.0 MB 3.6 MB/s eta 0:00:01\n",
      "     --------------------------------------   10.7/11.0 MB 3.7 MB/s eta 0:00:01\n",
      "     --------------------------------------   10.7/11.0 MB 3.6 MB/s eta 0:00:01\n",
      "     --------------------------------------   10.7/11.0 MB 3.6 MB/s eta 0:00:01\n",
      "     --------------------------------------   10.7/11.0 MB 3.6 MB/s eta 0:00:01\n",
      "     ---------------------------------------  10.9/11.0 MB 3.6 MB/s eta 0:00:01\n",
      "     ---------------------------------------  11.0/11.0 MB 3.6 MB/s eta 0:00:01\n",
      "     ---------------------------------------- 11.0/11.0 MB 3.6 MB/s eta 0:00:00\n",
      "Requirement already satisfied: numpy>=1.19.5 in c:\\users\\mryan\\appdata\\local\\programs\\python\\python39\\lib\\site-packages (from scikit-learn) (1.26.4)\n",
      "Collecting scipy>=1.6.0 (from scikit-learn)\n",
      "  Downloading scipy-1.13.1-cp39-cp39-win_amd64.whl (46.2 MB)\n",
      "                                              0.0/46.2 MB ? eta -:--:--\n",
      "     -                                        1.2/46.2 MB 25.5 MB/s eta 0:00:02\n",
      "     -                                        2.2/46.2 MB 23.7 MB/s eta 0:00:02\n",
      "     --                                       3.1/46.2 MB 24.3 MB/s eta 0:00:02\n",
      "     --                                       3.1/46.2 MB 24.3 MB/s eta 0:00:02\n",
      "     --                                       3.1/46.2 MB 24.3 MB/s eta 0:00:02\n",
      "     --                                       3.1/46.2 MB 24.3 MB/s eta 0:00:02\n",
      "     --                                       3.1/46.2 MB 24.3 MB/s eta 0:00:02\n",
      "     --                                       3.1/46.2 MB 9.1 MB/s eta 0:00:05\n",
      "     --                                       3.1/46.2 MB 9.1 MB/s eta 0:00:05\n",
      "     --                                       3.1/46.2 MB 9.1 MB/s eta 0:00:05\n",
      "     --                                       3.1/46.2 MB 9.1 MB/s eta 0:00:05\n",
      "     --                                       3.1/46.2 MB 9.1 MB/s eta 0:00:05\n",
      "     ---                                      4.4/46.2 MB 7.4 MB/s eta 0:00:06\n",
      "     ---                                      4.4/46.2 MB 7.4 MB/s eta 0:00:06\n",
      "     ---                                      4.4/46.2 MB 7.4 MB/s eta 0:00:06\n",
      "     ---                                      4.4/46.2 MB 7.4 MB/s eta 0:00:06\n",
      "     ----                                     4.7/46.2 MB 6.0 MB/s eta 0:00:07\n",
      "     ----                                     5.1/46.2 MB 6.4 MB/s eta 0:00:07\n",
      "     ----                                     5.1/46.2 MB 6.4 MB/s eta 0:00:07\n",
      "     ----                                     5.1/46.2 MB 6.4 MB/s eta 0:00:07\n",
      "     ----                                     5.1/46.2 MB 6.4 MB/s eta 0:00:07\n",
      "     ----                                     5.7/46.2 MB 5.6 MB/s eta 0:00:08\n",
      "     -----                                    5.8/46.2 MB 5.7 MB/s eta 0:00:08\n",
      "     -----                                    5.8/46.2 MB 5.7 MB/s eta 0:00:08\n",
      "     -----                                    5.8/46.2 MB 5.7 MB/s eta 0:00:08\n",
      "     -----                                    5.8/46.2 MB 5.7 MB/s eta 0:00:08\n",
      "     -----                                    6.5/46.2 MB 5.2 MB/s eta 0:00:08\n",
      "     -----                                    6.5/46.2 MB 5.2 MB/s eta 0:00:08\n",
      "     -----                                    6.5/46.2 MB 5.2 MB/s eta 0:00:08\n",
      "     -----                                    6.5/46.2 MB 5.2 MB/s eta 0:00:08\n",
      "     -----                                    6.7/46.2 MB 4.7 MB/s eta 0:00:09\n",
      "     ------                                   7.0/46.2 MB 4.8 MB/s eta 0:00:09\n",
      "     ------                                   7.0/46.2 MB 4.8 MB/s eta 0:00:09\n",
      "     ------                                   7.0/46.2 MB 4.8 MB/s eta 0:00:09\n",
      "     ------                                   7.0/46.2 MB 4.8 MB/s eta 0:00:09\n",
      "     ------                                   7.2/46.2 MB 4.4 MB/s eta 0:00:09\n",
      "     ------                                   7.5/46.2 MB 4.4 MB/s eta 0:00:09\n",
      "     ------                                   7.6/46.2 MB 4.4 MB/s eta 0:00:09\n",
      "     ------                                   7.6/46.2 MB 4.4 MB/s eta 0:00:09\n",
      "     ------                                   7.6/46.2 MB 4.1 MB/s eta 0:00:10\n",
      "     ------                                   7.8/46.2 MB 4.1 MB/s eta 0:00:10\n",
      "     ------                                   8.0/46.2 MB 4.1 MB/s eta 0:00:10\n",
      "     ------                                   8.1/46.2 MB 4.2 MB/s eta 0:00:10\n",
      "     ------                                   8.1/46.2 MB 4.2 MB/s eta 0:00:10\n",
      "     -------                                  8.2/46.2 MB 3.9 MB/s eta 0:00:10\n",
      "     -------                                  8.5/46.2 MB 4.0 MB/s eta 0:00:10\n",
      "     -------                                  9.0/46.2 MB 4.2 MB/s eta 0:00:09\n",
      "     --------                                 9.6/46.2 MB 4.3 MB/s eta 0:00:09\n",
      "     --------                                 10.1/46.2 MB 4.5 MB/s eta 0:00:09\n",
      "     --------                                 10.3/46.2 MB 4.5 MB/s eta 0:00:09\n",
      "     ---------                                10.7/46.2 MB 4.4 MB/s eta 0:00:09\n",
      "     ---------                                11.3/46.2 MB 4.4 MB/s eta 0:00:09\n",
      "     ----------                               11.8/46.2 MB 4.3 MB/s eta 0:00:08\n",
      "     ----------                               12.2/46.2 MB 4.3 MB/s eta 0:00:08\n",
      "     ----------                               12.5/46.2 MB 4.2 MB/s eta 0:00:09\n",
      "     -----------                              13.1/46.2 MB 4.1 MB/s eta 0:00:09\n",
      "     -----------                              13.6/46.2 MB 5.0 MB/s eta 0:00:07\n",
      "     ------------                             14.2/46.2 MB 4.8 MB/s eta 0:00:07\n",
      "     ------------                             14.5/46.2 MB 4.8 MB/s eta 0:00:07\n",
      "     ------------                             14.8/46.2 MB 5.2 MB/s eta 0:00:07\n",
      "     -------------                            15.4/46.2 MB 5.6 MB/s eta 0:00:06\n",
      "     -------------                            15.9/46.2 MB 5.6 MB/s eta 0:00:06\n",
      "     --------------                           16.5/46.2 MB 6.1 MB/s eta 0:00:05\n",
      "     --------------                           16.7/46.2 MB 6.7 MB/s eta 0:00:05\n",
      "     --------------                           17.2/46.2 MB 6.7 MB/s eta 0:00:05\n",
      "     ---------------                          17.7/46.2 MB 7.7 MB/s eta 0:00:04\n",
      "     ---------------                          18.3/46.2 MB 9.0 MB/s eta 0:00:04\n",
      "     ---------------                         18.7/46.2 MB 10.1 MB/s eta 0:00:03\n",
      "     ----------------                         19.0/46.2 MB 9.9 MB/s eta 0:00:03\n",
      "     ----------------                         19.5/46.2 MB 9.9 MB/s eta 0:00:03\n",
      "     -----------------                        20.1/46.2 MB 9.9 MB/s eta 0:00:03\n",
      "     -----------------                       20.6/46.2 MB 10.2 MB/s eta 0:00:03\n",
      "     -----------------                       21.0/46.2 MB 10.2 MB/s eta 0:00:03\n",
      "     ------------------                      21.4/46.2 MB 10.1 MB/s eta 0:00:03\n",
      "     ------------------                       21.9/46.2 MB 9.9 MB/s eta 0:00:03\n",
      "     ------------------                      22.5/46.2 MB 10.1 MB/s eta 0:00:03\n",
      "     -------------------                     23.1/46.2 MB 10.4 MB/s eta 0:00:03\n",
      "     -------------------                     23.3/46.2 MB 10.2 MB/s eta 0:00:03\n",
      "     --------------------                    23.8/46.2 MB 10.2 MB/s eta 0:00:03\n",
      "     --------------------                    24.3/46.2 MB 10.2 MB/s eta 0:00:03\n",
      "     ---------------------                   24.9/46.2 MB 10.6 MB/s eta 0:00:03\n",
      "     ---------------------                   25.4/46.2 MB 10.4 MB/s eta 0:00:03\n",
      "     ---------------------                   25.7/46.2 MB 10.2 MB/s eta 0:00:03\n",
      "     ----------------------                  26.2/46.2 MB 10.2 MB/s eta 0:00:02\n",
      "     ----------------------                  26.8/46.2 MB 10.4 MB/s eta 0:00:02\n",
      "     -----------------------                 27.3/46.2 MB 10.6 MB/s eta 0:00:02\n",
      "     -----------------------                 27.4/46.2 MB 10.2 MB/s eta 0:00:02\n",
      "     -----------------------                 28.1/46.2 MB 10.2 MB/s eta 0:00:02\n",
      "     ------------------------                28.6/46.2 MB 10.2 MB/s eta 0:00:02\n",
      "     ------------------------                29.2/46.2 MB 10.6 MB/s eta 0:00:02\n",
      "     ------------------------                29.6/46.2 MB 10.4 MB/s eta 0:00:02\n",
      "     -------------------------               29.9/46.2 MB 10.2 MB/s eta 0:00:02\n",
      "     -------------------------               30.5/46.2 MB 10.2 MB/s eta 0:00:02\n",
      "     --------------------------              31.1/46.2 MB 10.4 MB/s eta 0:00:02\n",
      "     --------------------------              31.7/46.2 MB 10.7 MB/s eta 0:00:02\n",
      "     --------------------------              31.9/46.2 MB 10.4 MB/s eta 0:00:02\n",
      "     ---------------------------             32.4/46.2 MB 10.4 MB/s eta 0:00:02\n",
      "     ---------------------------             33.0/46.2 MB 10.4 MB/s eta 0:00:02\n",
      "     ----------------------------            33.6/46.2 MB 10.7 MB/s eta 0:00:02\n",
      "     ----------------------------            34.2/46.2 MB 10.7 MB/s eta 0:00:02\n",
      "     ----------------------------            34.4/46.2 MB 10.4 MB/s eta 0:00:02\n",
      "     -----------------------------           34.9/46.2 MB 10.4 MB/s eta 0:00:02\n",
      "     -----------------------------           35.5/46.2 MB 10.4 MB/s eta 0:00:02\n",
      "     ------------------------------          36.1/46.2 MB 10.7 MB/s eta 0:00:01\n",
      "     ------------------------------          36.6/46.2 MB 10.9 MB/s eta 0:00:01\n",
      "     -------------------------------         36.9/46.2 MB 10.4 MB/s eta 0:00:01\n",
      "     -------------------------------         37.5/46.2 MB 10.4 MB/s eta 0:00:01\n",
      "     --------------------------------        38.1/46.2 MB 11.1 MB/s eta 0:00:01\n",
      "     --------------------------------        38.7/46.2 MB 11.1 MB/s eta 0:00:01\n",
      "     --------------------------------        39.0/46.2 MB 10.7 MB/s eta 0:00:01\n",
      "     ---------------------------------       39.2/46.2 MB 10.6 MB/s eta 0:00:01\n",
      "     ---------------------------------       39.9/46.2 MB 10.7 MB/s eta 0:00:01\n",
      "     ----------------------------------      40.4/46.2 MB 10.9 MB/s eta 0:00:01\n",
      "     ----------------------------------      41.1/46.2 MB 10.9 MB/s eta 0:00:01\n",
      "     ----------------------------------      41.4/46.2 MB 10.7 MB/s eta 0:00:01\n",
      "     -----------------------------------     41.8/46.2 MB 10.6 MB/s eta 0:00:01\n",
      "     -----------------------------------     42.0/46.2 MB 10.4 MB/s eta 0:00:01\n",
      "     ------------------------------------     42.1/46.2 MB 9.9 MB/s eta 0:00:01\n",
      "     ------------------------------------    42.7/46.2 MB 10.6 MB/s eta 0:00:01\n",
      "     ------------------------------------    42.7/46.2 MB 10.6 MB/s eta 0:00:01\n",
      "     ------------------------------------    42.7/46.2 MB 10.6 MB/s eta 0:00:01\n",
      "     ------------------------------------    42.7/46.2 MB 10.6 MB/s eta 0:00:01\n",
      "     ------------------------------------    42.7/46.2 MB 10.6 MB/s eta 0:00:01\n",
      "     -------------------------------------    43.1/46.2 MB 8.5 MB/s eta 0:00:01\n",
      "     -------------------------------------    43.7/46.2 MB 8.4 MB/s eta 0:00:01\n",
      "     --------------------------------------   45.0/46.2 MB 9.2 MB/s eta 0:00:01\n",
      "     --------------------------------------   45.0/46.2 MB 8.8 MB/s eta 0:00:01\n",
      "     ---------------------------------------  45.2/46.2 MB 8.6 MB/s eta 0:00:01\n",
      "     ---------------------------------------  45.6/46.2 MB 8.5 MB/s eta 0:00:01\n",
      "     ---------------------------------------  46.0/46.2 MB 8.4 MB/s eta 0:00:01\n",
      "     ---------------------------------------  46.2/46.2 MB 8.3 MB/s eta 0:00:01\n",
      "     ---------------------------------------  46.2/46.2 MB 8.3 MB/s eta 0:00:01\n",
      "     ---------------------------------------- 46.2/46.2 MB 7.7 MB/s eta 0:00:00\n",
      "Collecting joblib>=1.2.0 (from scikit-learn)\n",
      "  Downloading joblib-1.4.2-py3-none-any.whl (301 kB)\n",
      "                                              0.0/301.8 kB ? eta -:--:--\n",
      "     ------------------------------------- 301.8/301.8 kB 18.2 MB/s eta 0:00:00\n",
      "Collecting threadpoolctl>=3.1.0 (from scikit-learn)\n",
      "  Downloading threadpoolctl-3.5.0-py3-none-any.whl (18 kB)\n",
      "Installing collected packages: threadpoolctl, scipy, joblib, scikit-learn\n",
      "Successfully installed joblib-1.4.2 scikit-learn-1.5.2 scipy-1.13.1 threadpoolctl-3.5.0\n"
     ]
    },
    {
     "name": "stderr",
     "output_type": "stream",
     "text": [
      "\n",
      "[notice] A new release of pip is available: 23.1 -> 24.3.1\n",
      "[notice] To update, run: C:\\Users\\mryan\\AppData\\Local\\Programs\\Python\\Python39\\python.exe -m pip install --upgrade pip\n"
     ]
    }
   ],
   "source": [
    "!pip install -U scikit-learn"
   ]
  },
  {
   "cell_type": "code",
   "execution_count": 4,
   "metadata": {},
   "outputs": [
    {
     "name": "stdout",
     "output_type": "stream",
     "text": [
      "Collecting pandas\n",
      "  Downloading pandas-2.2.3-cp39-cp39-win_amd64.whl (11.6 MB)\n",
      "                                              0.0/11.6 MB ? eta -:--:--\n",
      "                                              0.0/11.6 MB ? eta -:--:--\n",
      "                                             0.0/11.6 MB 435.7 kB/s eta 0:00:27\n",
      "                                             0.0/11.6 MB 435.7 kB/s eta 0:00:27\n",
      "                                             0.0/11.6 MB 435.7 kB/s eta 0:00:27\n",
      "                                             0.0/11.6 MB 435.7 kB/s eta 0:00:27\n",
      "                                             0.1/11.6 MB 204.8 kB/s eta 0:00:57\n",
      "                                             0.1/11.6 MB 275.8 kB/s eta 0:00:42\n",
      "                                             0.1/11.6 MB 275.8 kB/s eta 0:00:42\n",
      "                                             0.1/11.6 MB 275.8 kB/s eta 0:00:42\n",
      "                                             0.1/11.6 MB 266.9 kB/s eta 0:00:44\n",
      "                                             0.2/11.6 MB 337.8 kB/s eta 0:00:34\n",
      "                                             0.2/11.6 MB 442.7 kB/s eta 0:00:26\n",
      "                                             0.2/11.6 MB 442.7 kB/s eta 0:00:26\n",
      "                                             0.3/11.6 MB 426.0 kB/s eta 0:00:27\n",
      "     -                                       0.3/11.6 MB 487.6 kB/s eta 0:00:24\n",
      "     -                                       0.4/11.6 MB 598.2 kB/s eta 0:00:19\n",
      "     -                                       0.5/11.6 MB 655.4 kB/s eta 0:00:17\n",
      "     -                                       0.5/11.6 MB 655.4 kB/s eta 0:00:17\n",
      "     -                                       0.6/11.6 MB 679.4 kB/s eta 0:00:17\n",
      "     --                                      0.8/11.6 MB 824.2 kB/s eta 0:00:14\n",
      "     ---                                     1.0/11.6 MB 999.3 kB/s eta 0:00:11\n",
      "     ---                                      1.0/11.6 MB 1.1 MB/s eta 0:00:10\n",
      "     ---                                      1.0/11.6 MB 1.1 MB/s eta 0:00:10\n",
      "     ----                                     1.3/11.6 MB 1.2 MB/s eta 0:00:09\n",
      "     -----                                    1.6/11.6 MB 1.4 MB/s eta 0:00:07\n",
      "     ------                                   2.0/11.6 MB 1.7 MB/s eta 0:00:06\n",
      "     -------                                  2.1/11.6 MB 1.7 MB/s eta 0:00:06\n",
      "     -------                                  2.2/11.6 MB 1.7 MB/s eta 0:00:06\n",
      "     ---------                                2.7/11.6 MB 2.1 MB/s eta 0:00:05\n",
      "     -----------                              3.4/11.6 MB 2.5 MB/s eta 0:00:04\n",
      "     -------------                            4.0/11.6 MB 2.8 MB/s eta 0:00:03\n",
      "     --------------                           4.2/11.6 MB 3.0 MB/s eta 0:00:03\n",
      "     ----------------                         4.7/11.6 MB 3.1 MB/s eta 0:00:03\n",
      "     --------------------                     5.8/11.6 MB 3.8 MB/s eta 0:00:02\n",
      "     -----------------------                  6.8/11.6 MB 4.3 MB/s eta 0:00:02\n",
      "     -----------------------                  6.8/11.6 MB 4.3 MB/s eta 0:00:02\n",
      "     -----------------------                  6.8/11.6 MB 4.3 MB/s eta 0:00:02\n",
      "     -----------------------                  6.8/11.6 MB 4.3 MB/s eta 0:00:02\n",
      "     -----------------------                  6.8/11.6 MB 4.3 MB/s eta 0:00:02\n",
      "     -------------------------                7.4/11.6 MB 4.1 MB/s eta 0:00:02\n",
      "     ----------------------------             8.2/11.6 MB 4.4 MB/s eta 0:00:01\n",
      "     ----------------------------             8.2/11.6 MB 4.4 MB/s eta 0:00:01\n",
      "     ----------------------------             8.2/11.6 MB 4.4 MB/s eta 0:00:01\n",
      "     ----------------------------             8.2/11.6 MB 4.1 MB/s eta 0:00:01\n",
      "     -------------------------------          9.0/11.6 MB 4.4 MB/s eta 0:00:01\n",
      "     -------------------------------          9.1/11.6 MB 4.5 MB/s eta 0:00:01\n",
      "     -------------------------------          9.1/11.6 MB 4.5 MB/s eta 0:00:01\n",
      "     -------------------------------          9.1/11.6 MB 4.5 MB/s eta 0:00:01\n",
      "     --------------------------------         9.5/11.6 MB 4.2 MB/s eta 0:00:01\n",
      "     ----------------------------------       10.1/11.6 MB 4.5 MB/s eta 0:00:01\n",
      "     ----------------------------------       10.1/11.6 MB 4.5 MB/s eta 0:00:01\n",
      "     ----------------------------------       10.1/11.6 MB 4.5 MB/s eta 0:00:01\n",
      "     ----------------------------------       10.1/11.6 MB 4.5 MB/s eta 0:00:01\n",
      "     ------------------------------------     10.6/11.6 MB 5.8 MB/s eta 0:00:01\n",
      "     -------------------------------------    10.9/11.6 MB 6.4 MB/s eta 0:00:01\n",
      "     -------------------------------------    10.9/11.6 MB 6.4 MB/s eta 0:00:01\n",
      "     -------------------------------------    10.9/11.6 MB 6.4 MB/s eta 0:00:01\n",
      "     -------------------------------------    11.0/11.6 MB 5.8 MB/s eta 0:00:01\n",
      "     ---------------------------------------  11.4/11.6 MB 6.2 MB/s eta 0:00:01\n",
      "     ---------------------------------------  11.6/11.6 MB 6.3 MB/s eta 0:00:01\n",
      "     ---------------------------------------- 11.6/11.6 MB 6.2 MB/s eta 0:00:00\n",
      "Requirement already satisfied: numpy>=1.22.4 in c:\\users\\mryan\\appdata\\local\\programs\\python\\python39\\lib\\site-packages (from pandas) (1.26.4)\n",
      "Requirement already satisfied: python-dateutil>=2.8.2 in c:\\users\\mryan\\appdata\\local\\programs\\python\\python39\\lib\\site-packages (from pandas) (2.9.0.post0)\n",
      "Collecting pytz>=2020.1 (from pandas)\n",
      "  Downloading pytz-2024.2-py2.py3-none-any.whl (508 kB)\n",
      "                                              0.0/508.0 kB ? eta -:--:--\n",
      "     ------------------------------------- 508.0/508.0 kB 33.2 MB/s eta 0:00:00\n",
      "Collecting tzdata>=2022.7 (from pandas)\n",
      "  Downloading tzdata-2024.2-py2.py3-none-any.whl (346 kB)\n",
      "                                              0.0/346.6 kB ? eta -:--:--\n",
      "     ------------------------------------- 346.6/346.6 kB 22.4 MB/s eta 0:00:00\n",
      "Requirement already satisfied: six>=1.5 in c:\\users\\mryan\\appdata\\local\\programs\\python\\python39\\lib\\site-packages (from python-dateutil>=2.8.2->pandas) (1.16.0)\n",
      "Installing collected packages: pytz, tzdata, pandas\n",
      "Successfully installed pandas-2.2.3 pytz-2024.2 tzdata-2024.2\n"
     ]
    },
    {
     "name": "stderr",
     "output_type": "stream",
     "text": [
      "\n",
      "[notice] A new release of pip is available: 23.1 -> 24.3.1\n",
      "[notice] To update, run: C:\\Users\\mryan\\AppData\\Local\\Programs\\Python\\Python39\\python.exe -m pip install --upgrade pip\n"
     ]
    }
   ],
   "source": [
    "!pip install -U pandas"
   ]
  },
  {
   "cell_type": "code",
   "execution_count": 2,
   "metadata": {},
   "outputs": [
    {
     "name": "stdout",
     "output_type": "stream",
     "text": [
      "Collecting matplotlib\n",
      "  Downloading matplotlib-3.9.3-cp39-cp39-win_amd64.whl (7.8 MB)\n",
      "                                              0.0/7.8 MB ? eta -:--:--\n",
      "                                              0.1/7.8 MB 2.3 MB/s eta 0:00:04\n",
      "     --                                       0.4/7.8 MB 4.2 MB/s eta 0:00:02\n",
      "     -------                                  1.5/7.8 MB 10.6 MB/s eta 0:00:01\n",
      "     ------------                             2.5/7.8 MB 14.3 MB/s eta 0:00:01\n",
      "     ---------------                          3.0/7.8 MB 13.7 MB/s eta 0:00:01\n",
      "     -------------------                      3.9/7.8 MB 14.6 MB/s eta 0:00:01\n",
      "     ----------------------                   4.4/7.8 MB 14.7 MB/s eta 0:00:01\n",
      "     ------------------------                 4.8/7.8 MB 13.3 MB/s eta 0:00:01\n",
      "     -----------------------------            5.8/7.8 MB 14.2 MB/s eta 0:00:01\n",
      "     -------------------------------          6.1/7.8 MB 14.0 MB/s eta 0:00:01\n",
      "     ----------------------------------       6.8/7.8 MB 13.9 MB/s eta 0:00:01\n",
      "     ---------------------------------------  7.8/7.8 MB 14.3 MB/s eta 0:00:01\n",
      "     ---------------------------------------- 7.8/7.8 MB 13.9 MB/s eta 0:00:00\n",
      "Collecting contourpy>=1.0.1 (from matplotlib)\n",
      "  Downloading contourpy-1.3.0-cp39-cp39-win_amd64.whl (211 kB)\n",
      "                                              0.0/211.8 kB ? eta -:--:--\n",
      "     ------------------------------------- 211.8/211.8 kB 12.6 MB/s eta 0:00:00\n",
      "Collecting cycler>=0.10 (from matplotlib)\n",
      "  Downloading cycler-0.12.1-py3-none-any.whl (8.3 kB)\n",
      "Collecting fonttools>=4.22.0 (from matplotlib)\n",
      "  Downloading fonttools-4.55.1-cp39-cp39-win_amd64.whl (2.2 MB)\n",
      "                                              0.0/2.2 MB ? eta -:--:--\n",
      "     --------------------                     1.1/2.2 MB 24.2 MB/s eta 0:00:01\n",
      "     --------------------------------------   2.1/2.2 MB 26.9 MB/s eta 0:00:01\n",
      "     ---------------------------------------- 2.2/2.2 MB 23.4 MB/s eta 0:00:00\n",
      "Collecting kiwisolver>=1.3.1 (from matplotlib)\n",
      "  Downloading kiwisolver-1.4.7-cp39-cp39-win_amd64.whl (55 kB)\n",
      "                                              0.0/55.8 kB ? eta -:--:--\n",
      "     ---------------------------------------- 55.8/55.8 kB ? eta 0:00:00\n",
      "Requirement already satisfied: numpy>=1.23 in c:\\users\\mryan\\appdata\\local\\programs\\python\\python39\\lib\\site-packages (from matplotlib) (1.26.4)\n",
      "Requirement already satisfied: packaging>=20.0 in c:\\users\\mryan\\appdata\\local\\programs\\python\\python39\\lib\\site-packages (from matplotlib) (24.2)\n",
      "Requirement already satisfied: pillow>=8 in c:\\users\\mryan\\appdata\\local\\programs\\python\\python39\\lib\\site-packages (from matplotlib) (9.2.0)\n",
      "Collecting pyparsing>=2.3.1 (from matplotlib)\n",
      "  Downloading pyparsing-3.2.0-py3-none-any.whl (106 kB)\n",
      "                                              0.0/106.9 kB ? eta -:--:--\n",
      "     ---------------------------------------- 106.9/106.9 kB ? eta 0:00:00\n",
      "Requirement already satisfied: python-dateutil>=2.7 in c:\\users\\mryan\\appdata\\local\\programs\\python\\python39\\lib\\site-packages (from matplotlib) (2.9.0.post0)\n",
      "Collecting importlib-resources>=3.2.0 (from matplotlib)\n",
      "  Downloading importlib_resources-6.4.5-py3-none-any.whl (36 kB)\n",
      "Requirement already satisfied: zipp>=3.1.0 in c:\\users\\mryan\\appdata\\local\\programs\\python\\python39\\lib\\site-packages (from importlib-resources>=3.2.0->matplotlib) (3.20.2)\n",
      "Requirement already satisfied: six>=1.5 in c:\\users\\mryan\\appdata\\local\\programs\\python\\python39\\lib\\site-packages (from python-dateutil>=2.7->matplotlib) (1.16.0)\n",
      "Installing collected packages: pyparsing, kiwisolver, importlib-resources, fonttools, cycler, contourpy, matplotlib\n",
      "Successfully installed contourpy-1.3.0 cycler-0.12.1 fonttools-4.55.1 importlib-resources-6.4.5 kiwisolver-1.4.7 matplotlib-3.9.3 pyparsing-3.2.0\n"
     ]
    },
    {
     "name": "stderr",
     "output_type": "stream",
     "text": [
      "\n",
      "[notice] A new release of pip is available: 23.1 -> 24.3.1\n",
      "[notice] To update, run: python.exe -m pip install --upgrade pip\n"
     ]
    }
   ],
   "source": [
    "!pip install matplotlib"
   ]
  },
  {
   "cell_type": "code",
   "execution_count": 4,
   "metadata": {},
   "outputs": [
    {
     "name": "stdout",
     "output_type": "stream",
     "text": [
      "Collecting seaborn\n",
      "  Downloading seaborn-0.13.2-py3-none-any.whl (294 kB)\n",
      "                                              0.0/294.9 kB ? eta -:--:--\n",
      "     ------------                            92.2/294.9 kB 2.6 MB/s eta 0:00:01\n",
      "     -------------------------------------- 294.9/294.9 kB 3.6 MB/s eta 0:00:00\n",
      "Requirement already satisfied: numpy!=1.24.0,>=1.20 in c:\\users\\mryan\\appdata\\local\\programs\\python\\python39\\lib\\site-packages (from seaborn) (1.26.4)\n",
      "Requirement already satisfied: pandas>=1.2 in c:\\users\\mryan\\appdata\\local\\programs\\python\\python39\\lib\\site-packages (from seaborn) (2.2.3)\n",
      "Requirement already satisfied: matplotlib!=3.6.1,>=3.4 in c:\\users\\mryan\\appdata\\local\\programs\\python\\python39\\lib\\site-packages (from seaborn) (3.9.3)\n",
      "Requirement already satisfied: contourpy>=1.0.1 in c:\\users\\mryan\\appdata\\local\\programs\\python\\python39\\lib\\site-packages (from matplotlib!=3.6.1,>=3.4->seaborn) (1.3.0)\n",
      "Requirement already satisfied: cycler>=0.10 in c:\\users\\mryan\\appdata\\local\\programs\\python\\python39\\lib\\site-packages (from matplotlib!=3.6.1,>=3.4->seaborn) (0.12.1)\n",
      "Requirement already satisfied: fonttools>=4.22.0 in c:\\users\\mryan\\appdata\\local\\programs\\python\\python39\\lib\\site-packages (from matplotlib!=3.6.1,>=3.4->seaborn) (4.55.1)\n",
      "Requirement already satisfied: kiwisolver>=1.3.1 in c:\\users\\mryan\\appdata\\local\\programs\\python\\python39\\lib\\site-packages (from matplotlib!=3.6.1,>=3.4->seaborn) (1.4.7)\n",
      "Requirement already satisfied: packaging>=20.0 in c:\\users\\mryan\\appdata\\local\\programs\\python\\python39\\lib\\site-packages (from matplotlib!=3.6.1,>=3.4->seaborn) (24.2)\n",
      "Requirement already satisfied: pillow>=8 in c:\\users\\mryan\\appdata\\local\\programs\\python\\python39\\lib\\site-packages (from matplotlib!=3.6.1,>=3.4->seaborn) (9.2.0)\n",
      "Requirement already satisfied: pyparsing>=2.3.1 in c:\\users\\mryan\\appdata\\local\\programs\\python\\python39\\lib\\site-packages (from matplotlib!=3.6.1,>=3.4->seaborn) (3.2.0)\n",
      "Requirement already satisfied: python-dateutil>=2.7 in c:\\users\\mryan\\appdata\\local\\programs\\python\\python39\\lib\\site-packages (from matplotlib!=3.6.1,>=3.4->seaborn) (2.9.0.post0)\n",
      "Requirement already satisfied: importlib-resources>=3.2.0 in c:\\users\\mryan\\appdata\\local\\programs\\python\\python39\\lib\\site-packages (from matplotlib!=3.6.1,>=3.4->seaborn) (6.4.5)\n",
      "Requirement already satisfied: pytz>=2020.1 in c:\\users\\mryan\\appdata\\local\\programs\\python\\python39\\lib\\site-packages (from pandas>=1.2->seaborn) (2024.2)\n",
      "Requirement already satisfied: tzdata>=2022.7 in c:\\users\\mryan\\appdata\\local\\programs\\python\\python39\\lib\\site-packages (from pandas>=1.2->seaborn) (2024.2)\n",
      "Requirement already satisfied: zipp>=3.1.0 in c:\\users\\mryan\\appdata\\local\\programs\\python\\python39\\lib\\site-packages (from importlib-resources>=3.2.0->matplotlib!=3.6.1,>=3.4->seaborn) (3.20.2)\n",
      "Requirement already satisfied: six>=1.5 in c:\\users\\mryan\\appdata\\local\\programs\\python\\python39\\lib\\site-packages (from python-dateutil>=2.7->matplotlib!=3.6.1,>=3.4->seaborn) (1.16.0)\n",
      "Installing collected packages: seaborn\n",
      "Successfully installed seaborn-0.13.2\n"
     ]
    },
    {
     "name": "stderr",
     "output_type": "stream",
     "text": [
      "\n",
      "[notice] A new release of pip is available: 23.1 -> 24.3.1\n",
      "[notice] To update, run: python.exe -m pip install --upgrade pip\n"
     ]
    }
   ],
   "source": [
    "!pip install seaborn"
   ]
  },
  {
   "cell_type": "code",
   "execution_count": 75,
   "metadata": {
    "trusted": true
   },
   "outputs": [],
   "source": [
    "import pandas as pd\n",
    "import matplotlib.pyplot as plt\n",
    "import numpy as np\n",
    "import seaborn as sns\n",
    "from sklearn.pipeline import Pipeline\n",
    "from sklearn.preprocessing import StandardScaler,PolynomialFeatures\n",
    "from sklearn.linear_model import LinearRegression\n",
    "from sklearn.metrics import mean_squared_error, r2_score\n",
    "%matplotlib inline"
   ]
  },
  {
   "cell_type": "markdown",
   "metadata": {},
   "source": [
    "# Module 1: Importing Data Sets\n"
   ]
  },
  {
   "cell_type": "markdown",
   "metadata": {},
   "source": [
    "Download the dataset by running the cell below.\n"
   ]
  },
  {
   "cell_type": "code",
   "execution_count": 7,
   "metadata": {},
   "outputs": [
    {
     "name": "stderr",
     "output_type": "stream",
     "text": [
      "ERROR: Could not find a version that satisfies the requirement piplite (from versions: none)\n",
      "ERROR: No matching distribution found for piplite\n",
      "\n",
      "[notice] A new release of pip is available: 23.1 -> 24.3.1\n",
      "[notice] To update, run: python.exe -m pip install --upgrade pip\n"
     ]
    }
   ],
   "source": [
    "!pip install piplite"
   ]
  },
  {
   "cell_type": "code",
   "execution_count": null,
   "metadata": {
    "trusted": true
   },
   "outputs": [
    {
     "ename": "ModuleNotFoundError",
     "evalue": "No module named 'piplite'",
     "output_type": "error",
     "traceback": [
      "\u001b[1;31m---------------------------------------------------------------------------\u001b[0m",
      "\u001b[1;31mModuleNotFoundError\u001b[0m                       Traceback (most recent call last)",
      "Cell \u001b[1;32mIn[6], line 1\u001b[0m\n\u001b[1;32m----> 1\u001b[0m \u001b[38;5;28;01mimport\u001b[39;00m \u001b[38;5;21;01mpiplite\u001b[39;00m\n\u001b[0;32m      2\u001b[0m \u001b[38;5;28;01mawait\u001b[39;00m piplite\u001b[38;5;241m.\u001b[39minstall(\u001b[38;5;124m'\u001b[39m\u001b[38;5;124mseaborn\u001b[39m\u001b[38;5;124m'\u001b[39m)\n",
      "\u001b[1;31mModuleNotFoundError\u001b[0m: No module named 'piplite'"
     ]
    }
   ],
   "source": [
    "# import piplite\n",
    "# await piplite.install('seaborn')"
   ]
  },
  {
   "cell_type": "code",
   "execution_count": null,
   "metadata": {
    "trusted": true
   },
   "outputs": [],
   "source": [
    "# from pyodide.http import pyfetch\n",
    "\n",
    "# async def download(url, filename):\n",
    "#     response = await pyfetch(url)\n",
    "#     if response.status == 200:\n",
    "#         with open(filename, \"wb\") as f:\n",
    "#             f.write(await response.bytes())"
   ]
  },
  {
   "cell_type": "code",
   "execution_count": null,
   "metadata": {
    "trusted": true
   },
   "outputs": [],
   "source": [
    "# await download(filepath, \"housing.csv\")\n",
    "# file_name=\"housing.csv\""
   ]
  },
  {
   "cell_type": "markdown",
   "metadata": {},
   "source": [
    "Load the csv:\n"
   ]
  },
  {
   "cell_type": "code",
   "execution_count": null,
   "metadata": {
    "trusted": true
   },
   "outputs": [],
   "source": [
    "# df = pd.read_csv(file_name)"
   ]
  },
  {
   "cell_type": "markdown",
   "metadata": {},
   "source": [
    "> Note: This version of the lab is working on JupyterLite, which requires the dataset to be downloaded to the interface.While working on the downloaded version of this notebook on their local machines(Jupyter Anaconda), the learners can simply **skip the steps above,** and simply use the URL directly in the `pandas.read_csv()` function. You can uncomment and run the statements in the cell below.\n"
   ]
  },
  {
   "cell_type": "code",
   "execution_count": 24,
   "metadata": {},
   "outputs": [],
   "source": [
    "filepath='https://cf-courses-data.s3.us.cloud-object-storage.appdomain.cloud/IBMDeveloperSkillsNetwork-DA0101EN-SkillsNetwork/labs/FinalModule_Coursera/data/kc_house_data_NaN.csv'\n",
    "df = pd.read_csv(filepath, header=0)"
   ]
  },
  {
   "cell_type": "markdown",
   "metadata": {},
   "source": [
    "We use the method <code>head</code> to display the first 5 columns of the dataframe.\n"
   ]
  },
  {
   "cell_type": "code",
   "execution_count": 20,
   "metadata": {
    "trusted": true
   },
   "outputs": [
    {
     "data": {
      "text/html": [
       "<div>\n",
       "<style scoped>\n",
       "    .dataframe tbody tr th:only-of-type {\n",
       "        vertical-align: middle;\n",
       "    }\n",
       "\n",
       "    .dataframe tbody tr th {\n",
       "        vertical-align: top;\n",
       "    }\n",
       "\n",
       "    .dataframe thead th {\n",
       "        text-align: right;\n",
       "    }\n",
       "</style>\n",
       "<table border=\"1\" class=\"dataframe\">\n",
       "  <thead>\n",
       "    <tr style=\"text-align: right;\">\n",
       "      <th></th>\n",
       "      <th>Unnamed: 0</th>\n",
       "      <th>id</th>\n",
       "      <th>date</th>\n",
       "      <th>price</th>\n",
       "      <th>bedrooms</th>\n",
       "      <th>bathrooms</th>\n",
       "      <th>sqft_living</th>\n",
       "      <th>sqft_lot</th>\n",
       "      <th>floors</th>\n",
       "      <th>waterfront</th>\n",
       "      <th>...</th>\n",
       "      <th>grade</th>\n",
       "      <th>sqft_above</th>\n",
       "      <th>sqft_basement</th>\n",
       "      <th>yr_built</th>\n",
       "      <th>yr_renovated</th>\n",
       "      <th>zipcode</th>\n",
       "      <th>lat</th>\n",
       "      <th>long</th>\n",
       "      <th>sqft_living15</th>\n",
       "      <th>sqft_lot15</th>\n",
       "    </tr>\n",
       "  </thead>\n",
       "  <tbody>\n",
       "    <tr>\n",
       "      <th>0</th>\n",
       "      <td>0</td>\n",
       "      <td>7129300520</td>\n",
       "      <td>20141013T000000</td>\n",
       "      <td>221900.0</td>\n",
       "      <td>3.0</td>\n",
       "      <td>1.00</td>\n",
       "      <td>1180</td>\n",
       "      <td>5650</td>\n",
       "      <td>1.0</td>\n",
       "      <td>0</td>\n",
       "      <td>...</td>\n",
       "      <td>7</td>\n",
       "      <td>1180</td>\n",
       "      <td>0</td>\n",
       "      <td>1955</td>\n",
       "      <td>0</td>\n",
       "      <td>98178</td>\n",
       "      <td>47.5112</td>\n",
       "      <td>-122.257</td>\n",
       "      <td>1340</td>\n",
       "      <td>5650</td>\n",
       "    </tr>\n",
       "    <tr>\n",
       "      <th>1</th>\n",
       "      <td>1</td>\n",
       "      <td>6414100192</td>\n",
       "      <td>20141209T000000</td>\n",
       "      <td>538000.0</td>\n",
       "      <td>3.0</td>\n",
       "      <td>2.25</td>\n",
       "      <td>2570</td>\n",
       "      <td>7242</td>\n",
       "      <td>2.0</td>\n",
       "      <td>0</td>\n",
       "      <td>...</td>\n",
       "      <td>7</td>\n",
       "      <td>2170</td>\n",
       "      <td>400</td>\n",
       "      <td>1951</td>\n",
       "      <td>1991</td>\n",
       "      <td>98125</td>\n",
       "      <td>47.7210</td>\n",
       "      <td>-122.319</td>\n",
       "      <td>1690</td>\n",
       "      <td>7639</td>\n",
       "    </tr>\n",
       "    <tr>\n",
       "      <th>2</th>\n",
       "      <td>2</td>\n",
       "      <td>5631500400</td>\n",
       "      <td>20150225T000000</td>\n",
       "      <td>180000.0</td>\n",
       "      <td>2.0</td>\n",
       "      <td>1.00</td>\n",
       "      <td>770</td>\n",
       "      <td>10000</td>\n",
       "      <td>1.0</td>\n",
       "      <td>0</td>\n",
       "      <td>...</td>\n",
       "      <td>6</td>\n",
       "      <td>770</td>\n",
       "      <td>0</td>\n",
       "      <td>1933</td>\n",
       "      <td>0</td>\n",
       "      <td>98028</td>\n",
       "      <td>47.7379</td>\n",
       "      <td>-122.233</td>\n",
       "      <td>2720</td>\n",
       "      <td>8062</td>\n",
       "    </tr>\n",
       "    <tr>\n",
       "      <th>3</th>\n",
       "      <td>3</td>\n",
       "      <td>2487200875</td>\n",
       "      <td>20141209T000000</td>\n",
       "      <td>604000.0</td>\n",
       "      <td>4.0</td>\n",
       "      <td>3.00</td>\n",
       "      <td>1960</td>\n",
       "      <td>5000</td>\n",
       "      <td>1.0</td>\n",
       "      <td>0</td>\n",
       "      <td>...</td>\n",
       "      <td>7</td>\n",
       "      <td>1050</td>\n",
       "      <td>910</td>\n",
       "      <td>1965</td>\n",
       "      <td>0</td>\n",
       "      <td>98136</td>\n",
       "      <td>47.5208</td>\n",
       "      <td>-122.393</td>\n",
       "      <td>1360</td>\n",
       "      <td>5000</td>\n",
       "    </tr>\n",
       "    <tr>\n",
       "      <th>4</th>\n",
       "      <td>4</td>\n",
       "      <td>1954400510</td>\n",
       "      <td>20150218T000000</td>\n",
       "      <td>510000.0</td>\n",
       "      <td>3.0</td>\n",
       "      <td>2.00</td>\n",
       "      <td>1680</td>\n",
       "      <td>8080</td>\n",
       "      <td>1.0</td>\n",
       "      <td>0</td>\n",
       "      <td>...</td>\n",
       "      <td>8</td>\n",
       "      <td>1680</td>\n",
       "      <td>0</td>\n",
       "      <td>1987</td>\n",
       "      <td>0</td>\n",
       "      <td>98074</td>\n",
       "      <td>47.6168</td>\n",
       "      <td>-122.045</td>\n",
       "      <td>1800</td>\n",
       "      <td>7503</td>\n",
       "    </tr>\n",
       "  </tbody>\n",
       "</table>\n",
       "<p>5 rows × 22 columns</p>\n",
       "</div>"
      ],
      "text/plain": [
       "   Unnamed: 0          id             date     price  bedrooms  bathrooms  \\\n",
       "0           0  7129300520  20141013T000000  221900.0       3.0       1.00   \n",
       "1           1  6414100192  20141209T000000  538000.0       3.0       2.25   \n",
       "2           2  5631500400  20150225T000000  180000.0       2.0       1.00   \n",
       "3           3  2487200875  20141209T000000  604000.0       4.0       3.00   \n",
       "4           4  1954400510  20150218T000000  510000.0       3.0       2.00   \n",
       "\n",
       "   sqft_living  sqft_lot  floors  waterfront  ...  grade  sqft_above  \\\n",
       "0         1180      5650     1.0           0  ...      7        1180   \n",
       "1         2570      7242     2.0           0  ...      7        2170   \n",
       "2          770     10000     1.0           0  ...      6         770   \n",
       "3         1960      5000     1.0           0  ...      7        1050   \n",
       "4         1680      8080     1.0           0  ...      8        1680   \n",
       "\n",
       "   sqft_basement  yr_built  yr_renovated  zipcode      lat     long  \\\n",
       "0              0      1955             0    98178  47.5112 -122.257   \n",
       "1            400      1951          1991    98125  47.7210 -122.319   \n",
       "2              0      1933             0    98028  47.7379 -122.233   \n",
       "3            910      1965             0    98136  47.5208 -122.393   \n",
       "4              0      1987             0    98074  47.6168 -122.045   \n",
       "\n",
       "   sqft_living15  sqft_lot15  \n",
       "0           1340        5650  \n",
       "1           1690        7639  \n",
       "2           2720        8062  \n",
       "3           1360        5000  \n",
       "4           1800        7503  \n",
       "\n",
       "[5 rows x 22 columns]"
      ]
     },
     "execution_count": 20,
     "metadata": {},
     "output_type": "execute_result"
    }
   ],
   "source": [
    "df.head()"
   ]
  },
  {
   "cell_type": "markdown",
   "metadata": {},
   "source": [
    "### Question 1\n",
    "\n",
    "Display the data types of each column using the function dtypes. Take a screenshot of your code and output. You will need to submit the screenshot for the final project. \n"
   ]
  },
  {
   "cell_type": "code",
   "execution_count": 46,
   "metadata": {},
   "outputs": [
    {
     "data": {
      "text/plain": [
       "date              object\n",
       "price            float64\n",
       "bedrooms         float64\n",
       "bathrooms        float64\n",
       "sqft_living        int64\n",
       "sqft_lot           int64\n",
       "floors           float64\n",
       "waterfront         int64\n",
       "view               int64\n",
       "condition          int64\n",
       "grade              int64\n",
       "sqft_above         int64\n",
       "sqft_basement      int64\n",
       "yr_built           int64\n",
       "yr_renovated       int64\n",
       "zipcode            int64\n",
       "lat              float64\n",
       "long             float64\n",
       "sqft_living15      int64\n",
       "sqft_lot15         int64\n",
       "dtype: object"
      ]
     },
     "execution_count": 46,
     "metadata": {},
     "output_type": "execute_result"
    }
   ],
   "source": [
    "df.dtypes"
   ]
  },
  {
   "cell_type": "markdown",
   "metadata": {},
   "source": [
    "We use the method describe to obtain a statistical summary of the dataframe.\n"
   ]
  },
  {
   "cell_type": "code",
   "execution_count": 17,
   "metadata": {},
   "outputs": [
    {
     "data": {
      "text/html": [
       "<div>\n",
       "<style scoped>\n",
       "    .dataframe tbody tr th:only-of-type {\n",
       "        vertical-align: middle;\n",
       "    }\n",
       "\n",
       "    .dataframe tbody tr th {\n",
       "        vertical-align: top;\n",
       "    }\n",
       "\n",
       "    .dataframe thead th {\n",
       "        text-align: right;\n",
       "    }\n",
       "</style>\n",
       "<table border=\"1\" class=\"dataframe\">\n",
       "  <thead>\n",
       "    <tr style=\"text-align: right;\">\n",
       "      <th></th>\n",
       "      <th>0</th>\n",
       "    </tr>\n",
       "  </thead>\n",
       "  <tbody>\n",
       "    <tr>\n",
       "      <th>count</th>\n",
       "      <td>21613.00000</td>\n",
       "    </tr>\n",
       "    <tr>\n",
       "      <th>mean</th>\n",
       "      <td>10806.00000</td>\n",
       "    </tr>\n",
       "    <tr>\n",
       "      <th>std</th>\n",
       "      <td>6239.28002</td>\n",
       "    </tr>\n",
       "    <tr>\n",
       "      <th>min</th>\n",
       "      <td>0.00000</td>\n",
       "    </tr>\n",
       "    <tr>\n",
       "      <th>25%</th>\n",
       "      <td>5403.00000</td>\n",
       "    </tr>\n",
       "    <tr>\n",
       "      <th>50%</th>\n",
       "      <td>10806.00000</td>\n",
       "    </tr>\n",
       "    <tr>\n",
       "      <th>75%</th>\n",
       "      <td>16209.00000</td>\n",
       "    </tr>\n",
       "    <tr>\n",
       "      <th>max</th>\n",
       "      <td>21612.00000</td>\n",
       "    </tr>\n",
       "  </tbody>\n",
       "</table>\n",
       "</div>"
      ],
      "text/plain": [
       "                 0\n",
       "count  21613.00000\n",
       "mean   10806.00000\n",
       "std     6239.28002\n",
       "min        0.00000\n",
       "25%     5403.00000\n",
       "50%    10806.00000\n",
       "75%    16209.00000\n",
       "max    21612.00000"
      ]
     },
     "execution_count": 17,
     "metadata": {},
     "output_type": "execute_result"
    }
   ],
   "source": [
    "df.describe()"
   ]
  },
  {
   "cell_type": "markdown",
   "metadata": {},
   "source": [
    "# Module 2: Data Wrangling\n"
   ]
  },
  {
   "cell_type": "markdown",
   "metadata": {},
   "source": [
    "### Question 2\n",
    "\n",
    "Drop the columns <code>\"id\"</code>  and <code>\"Unnamed: 0\"</code> from axis 1 using the method <code>drop()</code>, then use the method <code>describe()</code> to obtain a statistical summary of the data. Make sure the <code>inplace</code> parameter is set to <code>True</code>. Take a screenshot of your code and output. You will need to submit the screenshot for the final project. \n"
   ]
  },
  {
   "cell_type": "code",
   "execution_count": 25,
   "metadata": {},
   "outputs": [
    {
     "data": {
      "text/html": [
       "<div>\n",
       "<style scoped>\n",
       "    .dataframe tbody tr th:only-of-type {\n",
       "        vertical-align: middle;\n",
       "    }\n",
       "\n",
       "    .dataframe tbody tr th {\n",
       "        vertical-align: top;\n",
       "    }\n",
       "\n",
       "    .dataframe thead th {\n",
       "        text-align: right;\n",
       "    }\n",
       "</style>\n",
       "<table border=\"1\" class=\"dataframe\">\n",
       "  <thead>\n",
       "    <tr style=\"text-align: right;\">\n",
       "      <th></th>\n",
       "      <th>date</th>\n",
       "      <th>price</th>\n",
       "      <th>bedrooms</th>\n",
       "      <th>bathrooms</th>\n",
       "      <th>sqft_living</th>\n",
       "      <th>sqft_lot</th>\n",
       "      <th>floors</th>\n",
       "      <th>waterfront</th>\n",
       "      <th>view</th>\n",
       "      <th>condition</th>\n",
       "      <th>grade</th>\n",
       "      <th>sqft_above</th>\n",
       "      <th>sqft_basement</th>\n",
       "      <th>yr_built</th>\n",
       "      <th>yr_renovated</th>\n",
       "      <th>zipcode</th>\n",
       "      <th>lat</th>\n",
       "      <th>long</th>\n",
       "      <th>sqft_living15</th>\n",
       "      <th>sqft_lot15</th>\n",
       "    </tr>\n",
       "  </thead>\n",
       "  <tbody>\n",
       "    <tr>\n",
       "      <th>0</th>\n",
       "      <td>20141013T000000</td>\n",
       "      <td>221900.0</td>\n",
       "      <td>3.0</td>\n",
       "      <td>1.00</td>\n",
       "      <td>1180</td>\n",
       "      <td>5650</td>\n",
       "      <td>1.0</td>\n",
       "      <td>0</td>\n",
       "      <td>0</td>\n",
       "      <td>3</td>\n",
       "      <td>7</td>\n",
       "      <td>1180</td>\n",
       "      <td>0</td>\n",
       "      <td>1955</td>\n",
       "      <td>0</td>\n",
       "      <td>98178</td>\n",
       "      <td>47.5112</td>\n",
       "      <td>-122.257</td>\n",
       "      <td>1340</td>\n",
       "      <td>5650</td>\n",
       "    </tr>\n",
       "    <tr>\n",
       "      <th>1</th>\n",
       "      <td>20141209T000000</td>\n",
       "      <td>538000.0</td>\n",
       "      <td>3.0</td>\n",
       "      <td>2.25</td>\n",
       "      <td>2570</td>\n",
       "      <td>7242</td>\n",
       "      <td>2.0</td>\n",
       "      <td>0</td>\n",
       "      <td>0</td>\n",
       "      <td>3</td>\n",
       "      <td>7</td>\n",
       "      <td>2170</td>\n",
       "      <td>400</td>\n",
       "      <td>1951</td>\n",
       "      <td>1991</td>\n",
       "      <td>98125</td>\n",
       "      <td>47.7210</td>\n",
       "      <td>-122.319</td>\n",
       "      <td>1690</td>\n",
       "      <td>7639</td>\n",
       "    </tr>\n",
       "    <tr>\n",
       "      <th>2</th>\n",
       "      <td>20150225T000000</td>\n",
       "      <td>180000.0</td>\n",
       "      <td>2.0</td>\n",
       "      <td>1.00</td>\n",
       "      <td>770</td>\n",
       "      <td>10000</td>\n",
       "      <td>1.0</td>\n",
       "      <td>0</td>\n",
       "      <td>0</td>\n",
       "      <td>3</td>\n",
       "      <td>6</td>\n",
       "      <td>770</td>\n",
       "      <td>0</td>\n",
       "      <td>1933</td>\n",
       "      <td>0</td>\n",
       "      <td>98028</td>\n",
       "      <td>47.7379</td>\n",
       "      <td>-122.233</td>\n",
       "      <td>2720</td>\n",
       "      <td>8062</td>\n",
       "    </tr>\n",
       "    <tr>\n",
       "      <th>3</th>\n",
       "      <td>20141209T000000</td>\n",
       "      <td>604000.0</td>\n",
       "      <td>4.0</td>\n",
       "      <td>3.00</td>\n",
       "      <td>1960</td>\n",
       "      <td>5000</td>\n",
       "      <td>1.0</td>\n",
       "      <td>0</td>\n",
       "      <td>0</td>\n",
       "      <td>5</td>\n",
       "      <td>7</td>\n",
       "      <td>1050</td>\n",
       "      <td>910</td>\n",
       "      <td>1965</td>\n",
       "      <td>0</td>\n",
       "      <td>98136</td>\n",
       "      <td>47.5208</td>\n",
       "      <td>-122.393</td>\n",
       "      <td>1360</td>\n",
       "      <td>5000</td>\n",
       "    </tr>\n",
       "    <tr>\n",
       "      <th>4</th>\n",
       "      <td>20150218T000000</td>\n",
       "      <td>510000.0</td>\n",
       "      <td>3.0</td>\n",
       "      <td>2.00</td>\n",
       "      <td>1680</td>\n",
       "      <td>8080</td>\n",
       "      <td>1.0</td>\n",
       "      <td>0</td>\n",
       "      <td>0</td>\n",
       "      <td>3</td>\n",
       "      <td>8</td>\n",
       "      <td>1680</td>\n",
       "      <td>0</td>\n",
       "      <td>1987</td>\n",
       "      <td>0</td>\n",
       "      <td>98074</td>\n",
       "      <td>47.6168</td>\n",
       "      <td>-122.045</td>\n",
       "      <td>1800</td>\n",
       "      <td>7503</td>\n",
       "    </tr>\n",
       "  </tbody>\n",
       "</table>\n",
       "</div>"
      ],
      "text/plain": [
       "              date     price  bedrooms  bathrooms  sqft_living  sqft_lot  \\\n",
       "0  20141013T000000  221900.0       3.0       1.00         1180      5650   \n",
       "1  20141209T000000  538000.0       3.0       2.25         2570      7242   \n",
       "2  20150225T000000  180000.0       2.0       1.00          770     10000   \n",
       "3  20141209T000000  604000.0       4.0       3.00         1960      5000   \n",
       "4  20150218T000000  510000.0       3.0       2.00         1680      8080   \n",
       "\n",
       "   floors  waterfront  view  condition  grade  sqft_above  sqft_basement  \\\n",
       "0     1.0           0     0          3      7        1180              0   \n",
       "1     2.0           0     0          3      7        2170            400   \n",
       "2     1.0           0     0          3      6         770              0   \n",
       "3     1.0           0     0          5      7        1050            910   \n",
       "4     1.0           0     0          3      8        1680              0   \n",
       "\n",
       "   yr_built  yr_renovated  zipcode      lat     long  sqft_living15  \\\n",
       "0      1955             0    98178  47.5112 -122.257           1340   \n",
       "1      1951          1991    98125  47.7210 -122.319           1690   \n",
       "2      1933             0    98028  47.7379 -122.233           2720   \n",
       "3      1965             0    98136  47.5208 -122.393           1360   \n",
       "4      1987             0    98074  47.6168 -122.045           1800   \n",
       "\n",
       "   sqft_lot15  \n",
       "0        5650  \n",
       "1        7639  \n",
       "2        8062  \n",
       "3        5000  \n",
       "4        7503  "
      ]
     },
     "execution_count": 25,
     "metadata": {},
     "output_type": "execute_result"
    }
   ],
   "source": [
    "df.drop(['id','Unnamed: 0'], axis=1, inplace=True)\n",
    "df.head()"
   ]
  },
  {
   "cell_type": "markdown",
   "metadata": {},
   "source": [
    "We can see we have missing values for the columns <code> bedrooms</code>  and <code> bathrooms </code>\n"
   ]
  },
  {
   "cell_type": "code",
   "execution_count": 26,
   "metadata": {},
   "outputs": [
    {
     "name": "stdout",
     "output_type": "stream",
     "text": [
      "number of NaN values for the column bedrooms : 13\n",
      "number of NaN values for the column bathrooms : 10\n"
     ]
    }
   ],
   "source": [
    "print(\"number of NaN values for the column bedrooms :\", df['bedrooms'].isnull().sum())\n",
    "print(\"number of NaN values for the column bathrooms :\", df['bathrooms'].isnull().sum())\n"
   ]
  },
  {
   "cell_type": "markdown",
   "metadata": {},
   "source": [
    "We can replace the missing values of the column <code>'bedrooms'</code> with the mean of the column  <code>'bedrooms' </code> using the method <code>replace()</code>. Don't forget to set the <code>inplace</code> parameter to <code>True</code>\n"
   ]
  },
  {
   "cell_type": "code",
   "execution_count": 27,
   "metadata": {},
   "outputs": [
    {
     "name": "stderr",
     "output_type": "stream",
     "text": [
      "C:\\Users\\mryan\\AppData\\Local\\Temp\\ipykernel_34400\\4091211281.py:2: FutureWarning: A value is trying to be set on a copy of a DataFrame or Series through chained assignment using an inplace method.\n",
      "The behavior will change in pandas 3.0. This inplace method will never work because the intermediate object on which we are setting values always behaves as a copy.\n",
      "\n",
      "For example, when doing 'df[col].method(value, inplace=True)', try using 'df.method({col: value}, inplace=True)' or df[col] = df[col].method(value) instead, to perform the operation inplace on the original object.\n",
      "\n",
      "\n",
      "  df['bedrooms'].replace(np.nan,mean, inplace=True)\n"
     ]
    }
   ],
   "source": [
    "mean=df['bedrooms'].mean()\n",
    "df['bedrooms'].replace(np.nan,mean, inplace=True)"
   ]
  },
  {
   "cell_type": "markdown",
   "metadata": {},
   "source": [
    "We also replace the missing values of the column <code>'bathrooms'</code> with the mean of the column  <code>'bathrooms' </code> using the method <code>replace()</code>. Don't forget to set the <code> inplace </code>  parameter top <code> True </code>\n"
   ]
  },
  {
   "cell_type": "code",
   "execution_count": 28,
   "metadata": {},
   "outputs": [
    {
     "name": "stderr",
     "output_type": "stream",
     "text": [
      "C:\\Users\\mryan\\AppData\\Local\\Temp\\ipykernel_34400\\1207139423.py:2: FutureWarning: A value is trying to be set on a copy of a DataFrame or Series through chained assignment using an inplace method.\n",
      "The behavior will change in pandas 3.0. This inplace method will never work because the intermediate object on which we are setting values always behaves as a copy.\n",
      "\n",
      "For example, when doing 'df[col].method(value, inplace=True)', try using 'df.method({col: value}, inplace=True)' or df[col] = df[col].method(value) instead, to perform the operation inplace on the original object.\n",
      "\n",
      "\n",
      "  df['bathrooms'].replace(np.nan,mean, inplace=True)\n"
     ]
    }
   ],
   "source": [
    "mean=df['bathrooms'].mean()\n",
    "df['bathrooms'].replace(np.nan,mean, inplace=True)"
   ]
  },
  {
   "cell_type": "code",
   "execution_count": 29,
   "metadata": {},
   "outputs": [
    {
     "name": "stdout",
     "output_type": "stream",
     "text": [
      "number of NaN values for the column bedrooms : 0\n",
      "number of NaN values for the column bathrooms : 0\n"
     ]
    }
   ],
   "source": [
    "print(\"number of NaN values for the column bedrooms :\", df['bedrooms'].isnull().sum())\n",
    "print(\"number of NaN values for the column bathrooms :\", df['bathrooms'].isnull().sum())"
   ]
  },
  {
   "cell_type": "markdown",
   "metadata": {},
   "source": [
    "# Module 3: Exploratory Data Analysis\n"
   ]
  },
  {
   "cell_type": "markdown",
   "metadata": {},
   "source": [
    "### Question 3\n",
    "\n",
    "Use the method <code>value_counts</code> to count the number of houses with unique floor values, use the method <code>.to_frame()</code> to convert it to a data frame. Take a screenshot of your code and output. You will need to submit the screenshot for the final project. \n"
   ]
  },
  {
   "cell_type": "code",
   "execution_count": 30,
   "metadata": {},
   "outputs": [
    {
     "name": "stdout",
     "output_type": "stream",
     "text": [
      "floors\n",
      "1.0    10680\n",
      "2.0     8241\n",
      "1.5     1910\n",
      "3.0      613\n",
      "2.5      161\n",
      "3.5        8\n",
      "Name: count, dtype: int64\n"
     ]
    }
   ],
   "source": [
    "floor_counts=df['floors'].value_counts()\n",
    "print(floor_counts)"
   ]
  },
  {
   "cell_type": "markdown",
   "metadata": {},
   "source": [
    "### Question 4\n",
    "\n",
    "Use the function <code>boxplot</code> in the seaborn library  to  determine whether houses with a waterfront view or without a waterfront view have more price outliers. Take a screenshot of your code and boxplot. You will need to submit the screenshot for the final project. \n"
   ]
  },
  {
   "cell_type": "code",
   "execution_count": 31,
   "metadata": {},
   "outputs": [
    {
     "data": {
      "text/plain": [
       "<Axes: xlabel='waterfront', ylabel='price'>"
      ]
     },
     "execution_count": 31,
     "metadata": {},
     "output_type": "execute_result"
    },
    {
     "data": {
      "image/png": "[encoded data removed]",
      "text/plain": [
       "<Figure size 640x480 with 1 Axes>"
      ]
     },
     "metadata": {},
     "output_type": "display_data"
    }
   ],
   "source": [
    "sns.boxplot(x=\"waterfront\", y=\"price\", data=df)"
   ]
  },
  {
   "cell_type": "markdown",
   "metadata": {},
   "source": [
    "### Question 5\n",
    "\n",
    "Use the function <code>regplot</code>  in the seaborn library  to  determine if the feature <code>sqft_above</code> is negatively or positively correlated with price. Take a screenshot of your code and scatterplot. You will need to submit the screenshot for the final project. \n"
   ]
  },
  {
   "cell_type": "code",
   "execution_count": 32,
   "metadata": {},
   "outputs": [
    {
     "data": {
      "text/plain": [
       "(0.0, 8081250.0)"
      ]
     },
     "execution_count": 32,
     "metadata": {},
     "output_type": "execute_result"
    },
    {
     "data": {
      "image/png": "[encoded data removed]",
      "text/plain": [
       "<Figure size 640x480 with 1 Axes>"
      ]
     },
     "metadata": {},
     "output_type": "display_data"
    }
   ],
   "source": [
    "sns.regplot(x=\"sqft_above\", y=\"price\", data=df, line_kws={\"color\": \"red\"})\n",
    "plt.ylim(0,)"
   ]
  },
  {
   "cell_type": "markdown",
   "metadata": {},
   "source": [
    "We can use the Pandas method <code>corr()</code>  to find the feature other than price that is most correlated with price.\n"
   ]
  },
  {
   "cell_type": "code",
   "execution_count": 33,
   "metadata": {},
   "outputs": [
    {
     "ename": "ValueError",
     "evalue": "could not convert string to float: '20141013T000000'",
     "output_type": "error",
     "traceback": [
      "\u001b[1;31m---------------------------------------------------------------------------\u001b[0m",
      "\u001b[1;31mValueError\u001b[0m                                Traceback (most recent call last)",
      "Cell \u001b[1;32mIn[33], line 1\u001b[0m\n\u001b[1;32m----> 1\u001b[0m \u001b[43mdf\u001b[49m\u001b[38;5;241;43m.\u001b[39;49m\u001b[43mcorr\u001b[49m\u001b[43m(\u001b[49m\u001b[43m)\u001b[49m[\u001b[38;5;124m'\u001b[39m\u001b[38;5;124mprice\u001b[39m\u001b[38;5;124m'\u001b[39m]\u001b[38;5;241m.\u001b[39msort_values()\n",
      "File \u001b[1;32mc:\\Users\\mryan\\AppData\\Local\\Programs\\Python\\Python39\\lib\\site-packages\\pandas\\core\\frame.py:11049\u001b[0m, in \u001b[0;36mDataFrame.corr\u001b[1;34m(self, method, min_periods, numeric_only)\u001b[0m\n\u001b[0;32m  11047\u001b[0m cols \u001b[38;5;241m=\u001b[39m data\u001b[38;5;241m.\u001b[39mcolumns\n\u001b[0;32m  11048\u001b[0m idx \u001b[38;5;241m=\u001b[39m cols\u001b[38;5;241m.\u001b[39mcopy()\n\u001b[1;32m> 11049\u001b[0m mat \u001b[38;5;241m=\u001b[39m \u001b[43mdata\u001b[49m\u001b[38;5;241;43m.\u001b[39;49m\u001b[43mto_numpy\u001b[49m\u001b[43m(\u001b[49m\u001b[43mdtype\u001b[49m\u001b[38;5;241;43m=\u001b[39;49m\u001b[38;5;28;43mfloat\u001b[39;49m\u001b[43m,\u001b[49m\u001b[43m \u001b[49m\u001b[43mna_value\u001b[49m\u001b[38;5;241;43m=\u001b[39;49m\u001b[43mnp\u001b[49m\u001b[38;5;241;43m.\u001b[39;49m\u001b[43mnan\u001b[49m\u001b[43m,\u001b[49m\u001b[43m \u001b[49m\u001b[43mcopy\u001b[49m\u001b[38;5;241;43m=\u001b[39;49m\u001b[38;5;28;43;01mFalse\u001b[39;49;00m\u001b[43m)\u001b[49m\n\u001b[0;32m  11051\u001b[0m \u001b[38;5;28;01mif\u001b[39;00m method \u001b[38;5;241m==\u001b[39m \u001b[38;5;124m\"\u001b[39m\u001b[38;5;124mpearson\u001b[39m\u001b[38;5;124m\"\u001b[39m:\n\u001b[0;32m  11052\u001b[0m     correl \u001b[38;5;241m=\u001b[39m libalgos\u001b[38;5;241m.\u001b[39mnancorr(mat, minp\u001b[38;5;241m=\u001b[39mmin_periods)\n",
      "File \u001b[1;32mc:\\Users\\mryan\\AppData\\Local\\Programs\\Python\\Python39\\lib\\site-packages\\pandas\\core\\frame.py:1993\u001b[0m, in \u001b[0;36mDataFrame.to_numpy\u001b[1;34m(self, dtype, copy, na_value)\u001b[0m\n\u001b[0;32m   1991\u001b[0m \u001b[38;5;28;01mif\u001b[39;00m dtype \u001b[38;5;129;01mis\u001b[39;00m \u001b[38;5;129;01mnot\u001b[39;00m \u001b[38;5;28;01mNone\u001b[39;00m:\n\u001b[0;32m   1992\u001b[0m     dtype \u001b[38;5;241m=\u001b[39m np\u001b[38;5;241m.\u001b[39mdtype(dtype)\n\u001b[1;32m-> 1993\u001b[0m result \u001b[38;5;241m=\u001b[39m \u001b[38;5;28;43mself\u001b[39;49m\u001b[38;5;241;43m.\u001b[39;49m\u001b[43m_mgr\u001b[49m\u001b[38;5;241;43m.\u001b[39;49m\u001b[43mas_array\u001b[49m\u001b[43m(\u001b[49m\u001b[43mdtype\u001b[49m\u001b[38;5;241;43m=\u001b[39;49m\u001b[43mdtype\u001b[49m\u001b[43m,\u001b[49m\u001b[43m \u001b[49m\u001b[43mcopy\u001b[49m\u001b[38;5;241;43m=\u001b[39;49m\u001b[43mcopy\u001b[49m\u001b[43m,\u001b[49m\u001b[43m \u001b[49m\u001b[43mna_value\u001b[49m\u001b[38;5;241;43m=\u001b[39;49m\u001b[43mna_value\u001b[49m\u001b[43m)\u001b[49m\n\u001b[0;32m   1994\u001b[0m \u001b[38;5;28;01mif\u001b[39;00m result\u001b[38;5;241m.\u001b[39mdtype \u001b[38;5;129;01mis\u001b[39;00m \u001b[38;5;129;01mnot\u001b[39;00m dtype:\n\u001b[0;32m   1995\u001b[0m     result \u001b[38;5;241m=\u001b[39m np\u001b[38;5;241m.\u001b[39masarray(result, dtype\u001b[38;5;241m=\u001b[39mdtype)\n",
      "File \u001b[1;32mc:\\Users\\mryan\\AppData\\Local\\Programs\\Python\\Python39\\lib\\site-packages\\pandas\\core\\internals\\managers.py:1694\u001b[0m, in \u001b[0;36mBlockManager.as_array\u001b[1;34m(self, dtype, copy, na_value)\u001b[0m\n\u001b[0;32m   1692\u001b[0m         arr\u001b[38;5;241m.\u001b[39mflags\u001b[38;5;241m.\u001b[39mwriteable \u001b[38;5;241m=\u001b[39m \u001b[38;5;28;01mFalse\u001b[39;00m\n\u001b[0;32m   1693\u001b[0m \u001b[38;5;28;01melse\u001b[39;00m:\n\u001b[1;32m-> 1694\u001b[0m     arr \u001b[38;5;241m=\u001b[39m \u001b[38;5;28;43mself\u001b[39;49m\u001b[38;5;241;43m.\u001b[39;49m\u001b[43m_interleave\u001b[49m\u001b[43m(\u001b[49m\u001b[43mdtype\u001b[49m\u001b[38;5;241;43m=\u001b[39;49m\u001b[43mdtype\u001b[49m\u001b[43m,\u001b[49m\u001b[43m \u001b[49m\u001b[43mna_value\u001b[49m\u001b[38;5;241;43m=\u001b[39;49m\u001b[43mna_value\u001b[49m\u001b[43m)\u001b[49m\n\u001b[0;32m   1695\u001b[0m     \u001b[38;5;66;03m# The underlying data was copied within _interleave, so no need\u001b[39;00m\n\u001b[0;32m   1696\u001b[0m     \u001b[38;5;66;03m# to further copy if copy=True or setting na_value\u001b[39;00m\n\u001b[0;32m   1698\u001b[0m \u001b[38;5;28;01mif\u001b[39;00m na_value \u001b[38;5;129;01mis\u001b[39;00m lib\u001b[38;5;241m.\u001b[39mno_default:\n",
      "File \u001b[1;32mc:\\Users\\mryan\\AppData\\Local\\Programs\\Python\\Python39\\lib\\site-packages\\pandas\\core\\internals\\managers.py:1753\u001b[0m, in \u001b[0;36mBlockManager._interleave\u001b[1;34m(self, dtype, na_value)\u001b[0m\n\u001b[0;32m   1751\u001b[0m     \u001b[38;5;28;01melse\u001b[39;00m:\n\u001b[0;32m   1752\u001b[0m         arr \u001b[38;5;241m=\u001b[39m blk\u001b[38;5;241m.\u001b[39mget_values(dtype)\n\u001b[1;32m-> 1753\u001b[0m     \u001b[43mresult\u001b[49m\u001b[43m[\u001b[49m\u001b[43mrl\u001b[49m\u001b[38;5;241;43m.\u001b[39;49m\u001b[43mindexer\u001b[49m\u001b[43m]\u001b[49m \u001b[38;5;241m=\u001b[39m arr\n\u001b[0;32m   1754\u001b[0m     itemmask[rl\u001b[38;5;241m.\u001b[39mindexer] \u001b[38;5;241m=\u001b[39m \u001b[38;5;241m1\u001b[39m\n\u001b[0;32m   1756\u001b[0m \u001b[38;5;28;01mif\u001b[39;00m \u001b[38;5;129;01mnot\u001b[39;00m itemmask\u001b[38;5;241m.\u001b[39mall():\n",
      "\u001b[1;31mValueError\u001b[0m: could not convert string to float: '20141013T000000'"
     ]
    }
   ],
   "source": [
    "df.corr()['price'].sort_values()"
   ]
  },
  {
   "cell_type": "markdown",
   "metadata": {},
   "source": [
    "# Module 4: Model Development\n"
   ]
  },
  {
   "cell_type": "markdown",
   "metadata": {},
   "source": [
    "We can Fit a linear regression model using the  longitude feature <code>'long'</code> and  caculate the R^2.\n"
   ]
  },
  {
   "cell_type": "code",
   "execution_count": 34,
   "metadata": {},
   "outputs": [
    {
     "data": {
      "text/plain": [
       "0.00046769430149007363"
      ]
     },
     "execution_count": 34,
     "metadata": {},
     "output_type": "execute_result"
    }
   ],
   "source": [
    "X = df[['long']]\n",
    "Y = df['price']\n",
    "lm = LinearRegression()\n",
    "lm.fit(X,Y)\n",
    "lm.score(X, Y)"
   ]
  },
  {
   "cell_type": "markdown",
   "metadata": {},
   "source": [
    "### Question  6\n",
    "\n",
    "Fit a linear regression model to predict the <code>'price'</code> using the feature <code>'sqft_living'</code> then calculate the R^2. Take a screenshot of your code and the value of the R^2. You will need to submit it for the final project.\n"
   ]
  },
  {
   "cell_type": "code",
   "execution_count": 35,
   "metadata": {},
   "outputs": [
    {
     "name": "stdout",
     "output_type": "stream",
     "text": [
      "0.4928532179037931\n"
     ]
    }
   ],
   "source": [
    "lm = LinearRegression()\n",
    "X = df[['sqft_living']]\n",
    "Y = df['price']\n",
    "lm.fit(X,Y)\n",
    "print(lm.score(X, Y))"
   ]
  },
  {
   "cell_type": "markdown",
   "metadata": {},
   "source": [
    "### Question 7\n",
    "\n",
    "Fit a linear regression model to predict the <code>'price'</code> using the list of features:\n"
   ]
  },
  {
   "cell_type": "code",
   "execution_count": 67,
   "metadata": {},
   "outputs": [],
   "source": [
    "features =df[[\"floors\", \"waterfront\",\"lat\" ,\"bedrooms\" ,\"sqft_basement\" ,\"view\" ,\"bathrooms\",\"sqft_living15\",\"sqft_above\",\"grade\",\"sqft_living\"]]"
   ]
  },
  {
   "cell_type": "markdown",
   "metadata": {},
   "source": [
    "Then calculate the R^2. Take a screenshot of your code and the value of the R^2. You will need to submit it for the final project.\n"
   ]
  },
  {
   "cell_type": "code",
   "execution_count": 68,
   "metadata": {},
   "outputs": [
    {
     "name": "stdout",
     "output_type": "stream",
     "text": [
      "0.6576377477292141\n"
     ]
    }
   ],
   "source": [
    "lm1=LinearRegression()\n",
    "lm1.fit(features,Y)\n",
    "print(lm1.score(features,Y))"
   ]
  },
  {
   "cell_type": "markdown",
   "metadata": {},
   "source": [
    "### This will help with Question 8\n",
    "\n",
    "Create a list of tuples, the first element in the tuple contains the name of the estimator:\n",
    "\n",
    "<code>'scale'</code>\n",
    "\n",
    "<code>'polynomial'</code>\n",
    "\n",
    "<code>'model'</code>\n",
    "\n",
    "The second element in the tuple  contains the model constructor\n",
    "\n",
    "<code>StandardScaler()</code>\n",
    "\n",
    "<code>PolynomialFeatures(include_bias=False)</code>\n",
    "\n",
    "<code>LinearRegression()</code>\n"
   ]
  },
  {
   "cell_type": "code",
   "execution_count": 70,
   "metadata": {},
   "outputs": [],
   "source": [
    "Input=[('scale',StandardScaler()),('polynomial', PolynomialFeatures(include_bias=False)),('model',LinearRegression())]"
   ]
  },
  {
   "cell_type": "markdown",
   "metadata": {},
   "source": [
    "### Question 8\n",
    "\n",
    "Use the list to create a pipeline object to predict the 'price', fit the object using the features in the list <code>features</code>, and calculate the R^2. Take a screenshot of your code and the value of the R^2. You will need to submit it for the final project.\n"
   ]
  },
  {
   "cell_type": "code",
   "execution_count": 76,
   "metadata": {},
   "outputs": [
    {
     "name": "stdout",
     "output_type": "stream",
     "text": [
      "0.7508095274002047\n"
     ]
    }
   ],
   "source": [
    "pipe=Pipeline(Input)\n",
    "features=features.astype(float)\n",
    "pipe.fit(features,Y)\n",
    "ypipe=pipe.predict(features)\n",
    "print(r2_score(Y,ypipe))"
   ]
  },
  {
   "cell_type": "markdown",
   "metadata": {},
   "source": [
    "# Module 5: Model Evaluation and Refinement\n"
   ]
  },
  {
   "cell_type": "markdown",
   "metadata": {},
   "source": [
    "Import the necessary modules:\n"
   ]
  },
  {
   "cell_type": "code",
   "execution_count": 77,
   "metadata": {},
   "outputs": [
    {
     "name": "stdout",
     "output_type": "stream",
     "text": [
      "done\n"
     ]
    }
   ],
   "source": [
    "from sklearn.model_selection import cross_val_score\n",
    "from sklearn.model_selection import train_test_split\n",
    "print(\"done\")"
   ]
  },
  {
   "cell_type": "markdown",
   "metadata": {},
   "source": [
    "We will split the data into training and testing sets:\n"
   ]
  },
  {
   "cell_type": "code",
   "execution_count": 78,
   "metadata": {},
   "outputs": [
    {
     "name": "stdout",
     "output_type": "stream",
     "text": [
      "number of test samples: 3242\n",
      "number of training samples: 18371\n"
     ]
    }
   ],
   "source": [
    "features =[\"floors\", \"waterfront\",\"lat\" ,\"bedrooms\" ,\"sqft_basement\" ,\"view\" ,\"bathrooms\",\"sqft_living15\",\"sqft_above\",\"grade\",\"sqft_living\"]    \n",
    "X = df[features]\n",
    "Y = df['price']\n",
    "\n",
    "x_train, x_test, y_train, y_test = train_test_split(X, Y, test_size=0.15, random_state=1)\n",
    "\n",
    "\n",
    "print(\"number of test samples:\", x_test.shape[0])\n",
    "print(\"number of training samples:\",x_train.shape[0])"
   ]
  },
  {
   "cell_type": "markdown",
   "metadata": {},
   "source": [
    "### Question 9\n",
    "\n",
    "Create and fit a Ridge regression object using the training data, set the regularization parameter to 0.1, and calculate the R^2 using the test data. Take a screenshot of your code and the value of the R^2. You will need to submit it for the final project.\n"
   ]
  },
  {
   "cell_type": "code",
   "execution_count": 79,
   "metadata": {},
   "outputs": [],
   "source": [
    "from sklearn.linear_model import Ridge"
   ]
  },
  {
   "cell_type": "code",
   "execution_count": 80,
   "metadata": {},
   "outputs": [
    {
     "name": "stdout",
     "output_type": "stream",
     "text": [
      "0.647875916393911\n"
     ]
    }
   ],
   "source": [
    "RidgeModel=Ridge(alpha=0.1)\n",
    "RidgeModel.fit(x_train, y_train)\n",
    "yhat = RidgeModel.predict(x_test)\n",
    "print(r2_score(y_test,yhat))"
   ]
  },
  {
   "cell_type": "markdown",
   "metadata": {},
   "source": [
    "### Question 10\n",
    "\n",
    "Perform a second order polynomial transform on both the training data and testing data. Create and fit a Ridge regression object using the training data, set the regularisation parameter to 0.1, and calculate the R^2 utilising the test data provided. Take a screenshot of your code and the R^2. You will need to submit it for the final project.\n"
   ]
  },
  {
   "cell_type": "code",
   "execution_count": 81,
   "metadata": {},
   "outputs": [
    {
     "name": "stdout",
     "output_type": "stream",
     "text": [
      "0.7002744283021582\n"
     ]
    }
   ],
   "source": [
    "pr = PolynomialFeatures(degree=2)\n",
    "x_train_pr = pr.fit_transform(x_train)\n",
    "x_test_pr = pr.fit_transform(x_test)\n",
    "RidgeModel.fit(x_train_pr, y_train)\n",
    "y_hat = RidgeModel.predict(x_test_pr)\n",
    "print(r2_score(y_test,y_hat))"
   ]
  },
  {
   "cell_type": "markdown",
   "metadata": {},
   "source": [
    "<p>Once you complete your notebook you will have to share it. You can download the notebook by navigating to \"File\" and clicking on \"Download\" button.\n",
    "        <p><img width=\"600\" src=\"https://cf-courses-data.s3.us.cloud-object-storage.appdomain.cloud/IBMDeveloperSkillsNetwork-DA0101EN-SkillsNetwork/labs/Module%206/images/DA0101EN_FA_Image21.png\" alt=\"share notebook\" style=\"display: block; margin-left: auto; margin-right: auto;\"></p>\n",
    "        <p></p>\n",
    "<p>This will save the (.ipynb) file on your computer. Once saved, you can upload this file in the \"My Submission\" tab, of the \"Peer-graded Assignment\" section.  \n",
    "          \n"
   ]
  },
  {
   "cell_type": "markdown",
   "metadata": {},
   "source": [
    "<h2>About the Authors:</h2> \n",
    "\n",
    "<a href=\"https://www.linkedin.com/in/joseph-s-50398b136/?utm_medium=Exinfluencer&utm_source=Exinfluencer&utm_content=000026UJ&utm_term=10006555&utm_id=NA-SkillsNetwork-Channel-SkillsNetworkCoursesIBMDeveloperSkillsNetworkDA0101ENSkillsNetwork20235326-2022-01-01\">Joseph Santarcangelo</a> has a PhD in Electrical Engineering, his research focused on using machine learning, signal processing, and computer vision to determine how videos impact human cognition. Joseph has been working for IBM since he completed his PhD.\n"
   ]
  },
  {
   "cell_type": "markdown",
   "metadata": {},
   "source": [
    "Other contributors: <a href=\"https://www.linkedin.com/in/michelleccarey/?utm_medium=Exinfluencer&utm_source=Exinfluencer&utm_content=000026UJ&utm_term=10006555&utm_id=NA-SkillsNetwork-Channel-SkillsNetworkCoursesIBMDeveloperSkillsNetworkDA0101ENSkillsNetwork20235326-2022-01-01\">Michelle Carey</a>, <a href=\"https://www.linkedin.com/in/jiahui-mavis-zhou-a4537814a?utm_medium=Exinfluencer&utm_source=Exinfluencer&utm_content=000026UJ&utm_term=10006555&utm_id=NA-SkillsNetwork-Channel-SkillsNetworkCoursesIBMDeveloperSkillsNetworkDA0101ENSkillsNetwork20235326-2022-01-01\">Mavis Zhou</a>\n"
   ]
  },
  {
   "cell_type": "markdown",
   "metadata": {},
   "source": [
    "\n",
    "## <h3 align=\"center\"> © IBM Corporation 2020. All rights reserved. <h3/>\n",
    "<!--## Change Log\n",
    "\n",
    "| Date (YYYY-MM-DD) | Version | Changed By      | Change Description                           |\n",
    "| ----------------- | ------- | --------------- | -------------------------------------------- |\n",
    "| 2020-12-01        | 2.2     | Aije Egwaikhide | Coverted Data describtion from text to table |\n",
    "| 2020-10-06        | 2.1     | Lakshmi Holla   | Changed markdown instruction of Question1    |\n",
    "| 2020-08-27        | 2.0     | Malika Singla   | Added lab to GitLab                          |\n",
    "| 2022-06-13        | 2.3     | Svitlana Kramar | Updated Notebook sharing instructions        |\n",
    "| <hr>              |         |                 |                                              |\n",
    "\n",
    "\n",
    "--!>\n",
    "<p>\n"
   ]
  }
 ],
 "metadata": {
  "kernelspec": {
   "display_name": "Python 3",
   "language": "python",
   "name": "python3"
  },
  "language_info": {
   "codemirror_mode": {
    "name": "ipython",
    "version": 3
   },
   "file_extension": ".py",
   "mimetype": "text/x-python",
   "name": "python",
   "nbconvert_exporter": "python",
   "pygments_lexer": "ipython3",
   "version": "3.9.12"
  },
  "prev_pub_hash": "8e1b9a014f4d5dd1f594f0f84b9e2a27c098aabf3c393aa0062e8aef51a297d0"
 },
 "nbformat": 4,
 "nbformat_minor": 4
}
