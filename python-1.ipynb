{
 "cells": [
  {
   "cell_type": "code",
   "execution_count": 2,
   "id": "8141755a",
   "metadata": {},
   "outputs": [
    {
     "data": {
      "text/plain": [
       "float"
      ]
     },
     "execution_count": 2,
     "metadata": {},
     "output_type": "execute_result"
    }
   ],
   "source": [
    "type(1.2)"
   ]
  },
  {
   "cell_type": "code",
   "execution_count": 3,
   "id": "0b7c6f0c",
   "metadata": {},
   "outputs": [
    {
     "data": {
      "text/plain": [
       "str"
      ]
     },
     "execution_count": 3,
     "metadata": {},
     "output_type": "execute_result"
    }
   ],
   "source": [
    "type('galak')"
   ]
  },
  {
   "cell_type": "code",
   "execution_count": 4,
   "id": "6d05a33d",
   "metadata": {},
   "outputs": [
    {
     "data": {
      "text/plain": [
       "True"
      ]
     },
     "execution_count": 4,
     "metadata": {},
     "output_type": "execute_result"
    }
   ],
   "source": [
    "True"
   ]
  },
  {
   "cell_type": "code",
   "execution_count": 9,
   "id": "01e7701f",
   "metadata": {},
   "outputs": [
    {
     "data": {
      "text/plain": [
       "True"
      ]
     },
     "execution_count": 9,
     "metadata": {},
     "output_type": "execute_result"
    }
   ],
   "source": [
    "bool(1)"
   ]
  },
  {
   "cell_type": "code",
   "execution_count": 10,
   "id": "84b6d4bc",
   "metadata": {},
   "outputs": [
    {
     "data": {
      "text/plain": [
       "0"
      ]
     },
     "execution_count": 10,
     "metadata": {},
     "output_type": "execute_result"
    }
   ],
   "source": [
    "int(False)"
   ]
  },
  {
   "cell_type": "code",
   "execution_count": 6,
   "id": "aab20bcb",
   "metadata": {},
   "outputs": [
    {
     "data": {
      "text/plain": [
       "'2'"
      ]
     },
     "execution_count": 6,
     "metadata": {},
     "output_type": "execute_result"
    }
   ],
   "source": [
    "str(1+1)"
   ]
  },
  {
   "cell_type": "code",
   "execution_count": 7,
   "id": "e784f46d",
   "metadata": {},
   "outputs": [
    {
     "data": {
      "text/plain": [
       "4"
      ]
     },
     "execution_count": 7,
     "metadata": {},
     "output_type": "execute_result"
    }
   ],
   "source": [
    "int(4.222211)"
   ]
  },
  {
   "cell_type": "code",
   "execution_count": 8,
   "id": "a656e0fa",
   "metadata": {},
   "outputs": [
    {
     "data": {
      "text/plain": [
       "2.0"
      ]
     },
     "execution_count": 8,
     "metadata": {},
     "output_type": "execute_result"
    }
   ],
   "source": [
    "float(2)"
   ]
  },
  {
   "cell_type": "code",
   "execution_count": 14,
   "id": "a72bc1ec",
   "metadata": {},
   "outputs": [],
   "source": [
    "x=55"
   ]
  },
  {
   "cell_type": "code",
   "execution_count": 15,
   "id": "d8ece7f3",
   "metadata": {},
   "outputs": [
    {
     "name": "stdout",
     "output_type": "stream",
     "text": [
      "55\n"
     ]
    }
   ],
   "source": [
    "print(x)"
   ]
  },
  {
   "cell_type": "code",
   "execution_count": 12,
   "id": "d2841be0",
   "metadata": {},
   "outputs": [],
   "source": [
    "x=x-5"
   ]
  },
  {
   "cell_type": "code",
   "execution_count": 13,
   "id": "0aef7ca9",
   "metadata": {},
   "outputs": [
    {
     "name": "stdout",
     "output_type": "stream",
     "text": [
      "50\n"
     ]
    }
   ],
   "source": [
    "print(x)"
   ]
  },
  {
   "cell_type": "code",
   "execution_count": 17,
   "id": "1f6fad43",
   "metadata": {},
   "outputs": [
    {
     "name": "stdout",
     "output_type": "stream",
     "text": [
      "3025\n"
     ]
    }
   ],
   "source": [
    "y=x*x\n",
    "print(y)"
   ]
  },
  {
   "cell_type": "code",
   "execution_count": 30,
   "id": "aa4f8e2c",
   "metadata": {},
   "outputs": [
    {
     "name": "stdout",
     "output_type": "stream",
     "text": [
      "strroong\n"
     ]
    }
   ],
   "source": [
    "x=\"strroong\"\n",
    "print(x)"
   ]
  },
  {
   "cell_type": "code",
   "execution_count": 31,
   "id": "8eb35be9",
   "metadata": {},
   "outputs": [
    {
     "data": {
      "text/plain": [
       "8"
      ]
     },
     "execution_count": 31,
     "metadata": {},
     "output_type": "execute_result"
    }
   ],
   "source": [
    "len(x)"
   ]
  },
  {
   "cell_type": "code",
   "execution_count": 56,
   "id": "af1e2d7a",
   "metadata": {},
   "outputs": [
    {
     "data": {
      "text/plain": [
       "'strroongstrroongstrroong'"
      ]
     },
     "execution_count": 56,
     "metadata": {},
     "output_type": "execute_result"
    }
   ],
   "source": [
    "3*x"
   ]
  },
  {
   "cell_type": "code",
   "execution_count": 65,
   "id": "e0f13163",
   "metadata": {},
   "outputs": [
    {
     "name": "stdout",
     "output_type": "stream",
     "text": [
      "strroong tambah x lagi\n"
     ]
    }
   ],
   "source": [
    "xx=x+\" tambah x lagi\"\n",
    "print(xx)"
   ]
  },
  {
   "cell_type": "code",
   "execution_count": 60,
   "id": "af2cbafb",
   "metadata": {},
   "outputs": [
    {
     "name": "stdout",
     "output_type": "stream",
     "text": [
      "strroong tambah \n",
      " x lagi\n"
     ]
    }
   ],
   "source": [
    "print(\"strroong tambah \\n x lagi\")"
   ]
  },
  {
   "cell_type": "code",
   "execution_count": 61,
   "id": "37c508dd",
   "metadata": {},
   "outputs": [
    {
     "name": "stdout",
     "output_type": "stream",
     "text": [
      "strroong tambah \\ x lagi\n"
     ]
    }
   ],
   "source": [
    "print(\"strroong tambah \\\\ x lagi\")"
   ]
  },
  {
   "cell_type": "code",
   "execution_count": 62,
   "id": "c656dd37",
   "metadata": {},
   "outputs": [
    {
     "name": "stdout",
     "output_type": "stream",
     "text": [
      "strroong tambah \t x lagi\n"
     ]
    }
   ],
   "source": [
    "print(\"strroong tambah \\t x lagi\")"
   ]
  },
  {
   "cell_type": "code",
   "execution_count": 63,
   "id": "78583001",
   "metadata": {},
   "outputs": [
    {
     "data": {
      "text/plain": [
       "'STRROONG TAMBAH X LAGI'"
      ]
     },
     "execution_count": 63,
     "metadata": {},
     "output_type": "execute_result"
    }
   ],
   "source": [
    "xx.upper()"
   ]
  },
  {
   "cell_type": "code",
   "execution_count": 69,
   "id": "a4622847",
   "metadata": {},
   "outputs": [
    {
     "name": "stdout",
     "output_type": "stream",
     "text": [
      "strroong tambah x lagi\n",
      "strroong KURANG x lagi\n"
     ]
    }
   ],
   "source": [
    "xy=xx.replace(\"tambah\",\"KURANG\")\n",
    "print(xx)\n",
    "print(xy)"
   ]
  },
  {
   "cell_type": "code",
   "execution_count": 70,
   "id": "db0fd2ec",
   "metadata": {},
   "outputs": [
    {
     "data": {
      "text/plain": [
       "4"
      ]
     },
     "execution_count": 70,
     "metadata": {},
     "output_type": "execute_result"
    }
   ],
   "source": [
    "xx.find(\"oong\")"
   ]
  },
  {
   "cell_type": "code",
   "execution_count": 19,
   "id": "a4f910e3",
   "metadata": {},
   "outputs": [],
   "source": [
    "tuple1=('Ryan',1.44,2,\"Keke\")"
   ]
  },
  {
   "cell_type": "code",
   "execution_count": 20,
   "id": "5c5f668f",
   "metadata": {},
   "outputs": [
    {
     "data": {
      "text/plain": [
       "2"
      ]
     },
     "execution_count": 20,
     "metadata": {},
     "output_type": "execute_result"
    }
   ],
   "source": [
    "tuple1[2]"
   ]
  },
  {
   "cell_type": "code",
   "execution_count": 22,
   "id": "fd2e0237",
   "metadata": {},
   "outputs": [
    {
     "data": {
      "text/plain": [
       "'Keke'"
      ]
     },
     "execution_count": 22,
     "metadata": {},
     "output_type": "execute_result"
    }
   ],
   "source": [
    "tuple1[3]"
   ]
  },
  {
   "cell_type": "code",
   "execution_count": 26,
   "id": "8c33889d",
   "metadata": {},
   "outputs": [
    {
     "name": "stdout",
     "output_type": "stream",
     "text": [
      "('Ryan', 1.44, 2, 'Keke', 'Danu', 44)\n"
     ]
    }
   ],
   "source": [
    "tuple2=tuple1+(\"Danu\",44)\n",
    "print(tuple2)"
   ]
  },
  {
   "cell_type": "code",
   "execution_count": 27,
   "id": "426ae1bc",
   "metadata": {},
   "outputs": [
    {
     "data": {
      "text/plain": [
       "('Ryan', 1.44)"
      ]
     },
     "execution_count": 27,
     "metadata": {},
     "output_type": "execute_result"
    }
   ],
   "source": [
    "tuple2[0:2]"
   ]
  },
  {
   "cell_type": "code",
   "execution_count": 28,
   "id": "287aad89",
   "metadata": {},
   "outputs": [
    {
     "data": {
      "text/plain": [
       "('Ryan',)"
      ]
     },
     "execution_count": 28,
     "metadata": {},
     "output_type": "execute_result"
    }
   ],
   "source": [
    "tuple2[0:2:2]"
   ]
  },
  {
   "cell_type": "code",
   "execution_count": 103,
   "id": "99165e9e",
   "metadata": {},
   "outputs": [],
   "source": [
    "tuple3=((1),[2,3],[4])"
   ]
  },
  {
   "cell_type": "code",
   "execution_count": 104,
   "id": "87676ce2",
   "metadata": {},
   "outputs": [
    {
     "data": {
      "text/plain": [
       "4"
      ]
     },
     "execution_count": 104,
     "metadata": {},
     "output_type": "execute_result"
    }
   ],
   "source": [
    "tuple3[2][0]"
   ]
  },
  {
   "cell_type": "code",
   "execution_count": 32,
   "id": "51c9898a",
   "metadata": {},
   "outputs": [],
   "source": [
    "urutan=(1,9,5,6,10,3,2)"
   ]
  },
  {
   "cell_type": "code",
   "execution_count": 34,
   "id": "d1e7eb6c",
   "metadata": {},
   "outputs": [
    {
     "name": "stdout",
     "output_type": "stream",
     "text": [
      "[1, 2, 3, 5, 6, 9, 10]\n"
     ]
    }
   ],
   "source": [
    "rankurutan=sorted(urutan)\n",
    "print(rankurutan)"
   ]
  },
  {
   "cell_type": "code",
   "execution_count": 35,
   "id": "6c5a265d",
   "metadata": {},
   "outputs": [
    {
     "name": "stdout",
     "output_type": "stream",
     "text": [
      "(('danu', 'dana'), 2, 3, 'ryan,likke')\n"
     ]
    }
   ],
   "source": [
    "kumpulan=((\"danu\",\"dana\"),2,3,(\"ryan,likke\"))\n",
    "print(kumpulan)"
   ]
  },
  {
   "cell_type": "code",
   "execution_count": 38,
   "id": "f75c3d42",
   "metadata": {},
   "outputs": [
    {
     "data": {
      "text/plain": [
       "('danu', 'dana')"
      ]
     },
     "execution_count": 38,
     "metadata": {},
     "output_type": "execute_result"
    }
   ],
   "source": [
    "kumpulan[0]"
   ]
  },
  {
   "cell_type": "code",
   "execution_count": 39,
   "id": "0d961090",
   "metadata": {},
   "outputs": [
    {
     "data": {
      "text/plain": [
       "'dana'"
      ]
     },
     "execution_count": 39,
     "metadata": {},
     "output_type": "execute_result"
    }
   ],
   "source": [
    "kumpulan[0][1]"
   ]
  },
  {
   "cell_type": "code",
   "execution_count": 40,
   "id": "259d304e",
   "metadata": {},
   "outputs": [],
   "source": [
    "daftar=[(\"danu\",\"dana\"),2,3,(\"ryan,likke\")]"
   ]
  },
  {
   "cell_type": "code",
   "execution_count": 41,
   "id": "9b063b7f",
   "metadata": {},
   "outputs": [
    {
     "data": {
      "text/plain": [
       "2"
      ]
     },
     "execution_count": 41,
     "metadata": {},
     "output_type": "execute_result"
    }
   ],
   "source": [
    "daftar[1]"
   ]
  },
  {
   "cell_type": "code",
   "execution_count": 43,
   "id": "0fa0420d",
   "metadata": {},
   "outputs": [
    {
     "name": "stdout",
     "output_type": "stream",
     "text": [
      "[('danu', 'dana'), 2, 3, 'ryan,likke', 4]\n"
     ]
    }
   ],
   "source": [
    "daftar2=daftar+[4]\n",
    "print(daftar2)"
   ]
  },
  {
   "cell_type": "code",
   "execution_count": 45,
   "id": "06f4df6c",
   "metadata": {},
   "outputs": [
    {
     "name": "stdout",
     "output_type": "stream",
     "text": [
      "[('danu', 'dana'), 2, 3, 'ryan,likke', 4, 5, 'eyang,simbah']\n"
     ]
    }
   ],
   "source": [
    "daftar2.extend([5,('eyang,simbah')])\n",
    "print(daftar2)"
   ]
  },
  {
   "cell_type": "code",
   "execution_count": 46,
   "id": "51617d41",
   "metadata": {},
   "outputs": [
    {
     "name": "stdout",
     "output_type": "stream",
     "text": [
      "[('danu', 'dana'), 2, 3, 'ryan,likke', 4, 5, 'eyang,simbah', [6, 'mamak,papak']]\n"
     ]
    }
   ],
   "source": [
    "daftar2.append([6,('mamak,papak')])\n",
    "print(daftar2)"
   ]
  },
  {
   "cell_type": "code",
   "execution_count": 47,
   "id": "c267abef",
   "metadata": {},
   "outputs": [
    {
     "name": "stdout",
     "output_type": "stream",
     "text": [
      "[('danu', 'dana'), 2, 3, 'ryan,likke', 4, 5, 'eyang,simbah']\n"
     ]
    }
   ],
   "source": [
    "del(daftar2[7])\n",
    "print(daftar2)"
   ]
  },
  {
   "cell_type": "code",
   "execution_count": 48,
   "id": "b685b393",
   "metadata": {},
   "outputs": [
    {
     "data": {
      "text/plain": [
       "['ayam', 'goreng']"
      ]
     },
     "execution_count": 48,
     "metadata": {},
     "output_type": "execute_result"
    }
   ],
   "source": [
    "\"ayam goreng\".split()"
   ]
  },
  {
   "cell_type": "code",
   "execution_count": 49,
   "id": "0abd431c",
   "metadata": {},
   "outputs": [
    {
     "data": {
      "text/plain": [
       "['a', 'b', 'c', 'd']"
      ]
     },
     "execution_count": 49,
     "metadata": {},
     "output_type": "execute_result"
    }
   ],
   "source": [
    "\"a,b,c,d\".split(\",\")"
   ]
  },
  {
   "cell_type": "code",
   "execution_count": 50,
   "id": "bc4c8d7f",
   "metadata": {},
   "outputs": [
    {
     "name": "stdout",
     "output_type": "stream",
     "text": [
      "['danu', 1, 2, 'dana']\n",
      "['danu', 1, 2, 'dana']\n"
     ]
    }
   ],
   "source": [
    "# aliasing\n",
    "A=['danu',1,2,'dana']\n",
    "B=A\n",
    "print(A)\n",
    "print(B)"
   ]
  },
  {
   "cell_type": "code",
   "execution_count": 51,
   "id": "6f35adf4",
   "metadata": {},
   "outputs": [
    {
     "name": "stdout",
     "output_type": "stream",
     "text": [
      "['gumbang', 1, 2, 'dana']\n",
      "['gumbang', 1, 2, 'dana']\n"
     ]
    }
   ],
   "source": [
    "A[0]='gumbang'\n",
    "print(A)\n",
    "print(B)"
   ]
  },
  {
   "cell_type": "code",
   "execution_count": 52,
   "id": "f7bce856",
   "metadata": {},
   "outputs": [
    {
     "name": "stdout",
     "output_type": "stream",
     "text": [
      "['gumbang', 1, 2, 'dana']\n"
     ]
    }
   ],
   "source": [
    "# clone\n",
    "C=A[:]\n",
    "print(C)"
   ]
  },
  {
   "cell_type": "code",
   "execution_count": 54,
   "id": "aedfbd5e",
   "metadata": {},
   "outputs": [
    {
     "name": "stdout",
     "output_type": "stream",
     "text": [
      "['orangutan', 1, 2, 'dana']\n",
      "['gumbang', 1, 2, 'dana']\n"
     ]
    }
   ],
   "source": [
    "C[0]='orangutan'\n",
    "print(C)\n",
    "print(A)"
   ]
  },
  {
   "cell_type": "code",
   "execution_count": 55,
   "id": "0da7fb43",
   "metadata": {},
   "outputs": [
    {
     "name": "stdout",
     "output_type": "stream",
     "text": [
      "Help on list object:\n",
      "\n",
      "class list(object)\n",
      " |  list(iterable=(), /)\n",
      " |  \n",
      " |  Built-in mutable sequence.\n",
      " |  \n",
      " |  If no argument is given, the constructor creates a new empty list.\n",
      " |  The argument must be an iterable if specified.\n",
      " |  \n",
      " |  Methods defined here:\n",
      " |  \n",
      " |  __add__(self, value, /)\n",
      " |      Return self+value.\n",
      " |  \n",
      " |  __contains__(self, key, /)\n",
      " |      Return key in self.\n",
      " |  \n",
      " |  __delitem__(self, key, /)\n",
      " |      Delete self[key].\n",
      " |  \n",
      " |  __eq__(self, value, /)\n",
      " |      Return self==value.\n",
      " |  \n",
      " |  __ge__(self, value, /)\n",
      " |      Return self>=value.\n",
      " |  \n",
      " |  __getattribute__(self, name, /)\n",
      " |      Return getattr(self, name).\n",
      " |  \n",
      " |  __getitem__(...)\n",
      " |      x.__getitem__(y) <==> x[y]\n",
      " |  \n",
      " |  __gt__(self, value, /)\n",
      " |      Return self>value.\n",
      " |  \n",
      " |  __iadd__(self, value, /)\n",
      " |      Implement self+=value.\n",
      " |  \n",
      " |  __imul__(self, value, /)\n",
      " |      Implement self*=value.\n",
      " |  \n",
      " |  __init__(self, /, *args, **kwargs)\n",
      " |      Initialize self.  See help(type(self)) for accurate signature.\n",
      " |  \n",
      " |  __iter__(self, /)\n",
      " |      Implement iter(self).\n",
      " |  \n",
      " |  __le__(self, value, /)\n",
      " |      Return self<=value.\n",
      " |  \n",
      " |  __len__(self, /)\n",
      " |      Return len(self).\n",
      " |  \n",
      " |  __lt__(self, value, /)\n",
      " |      Return self<value.\n",
      " |  \n",
      " |  __mul__(self, value, /)\n",
      " |      Return self*value.\n",
      " |  \n",
      " |  __ne__(self, value, /)\n",
      " |      Return self!=value.\n",
      " |  \n",
      " |  __repr__(self, /)\n",
      " |      Return repr(self).\n",
      " |  \n",
      " |  __reversed__(self, /)\n",
      " |      Return a reverse iterator over the list.\n",
      " |  \n",
      " |  __rmul__(self, value, /)\n",
      " |      Return value*self.\n",
      " |  \n",
      " |  __setitem__(self, key, value, /)\n",
      " |      Set self[key] to value.\n",
      " |  \n",
      " |  __sizeof__(self, /)\n",
      " |      Return the size of the list in memory, in bytes.\n",
      " |  \n",
      " |  append(self, object, /)\n",
      " |      Append object to the end of the list.\n",
      " |  \n",
      " |  clear(self, /)\n",
      " |      Remove all items from list.\n",
      " |  \n",
      " |  copy(self, /)\n",
      " |      Return a shallow copy of the list.\n",
      " |  \n",
      " |  count(self, value, /)\n",
      " |      Return number of occurrences of value.\n",
      " |  \n",
      " |  extend(self, iterable, /)\n",
      " |      Extend list by appending elements from the iterable.\n",
      " |  \n",
      " |  index(self, value, start=0, stop=9223372036854775807, /)\n",
      " |      Return first index of value.\n",
      " |      \n",
      " |      Raises ValueError if the value is not present.\n",
      " |  \n",
      " |  insert(self, index, object, /)\n",
      " |      Insert object before index.\n",
      " |  \n",
      " |  pop(self, index=-1, /)\n",
      " |      Remove and return item at index (default last).\n",
      " |      \n",
      " |      Raises IndexError if list is empty or index is out of range.\n",
      " |  \n",
      " |  remove(self, value, /)\n",
      " |      Remove first occurrence of value.\n",
      " |      \n",
      " |      Raises ValueError if the value is not present.\n",
      " |  \n",
      " |  reverse(self, /)\n",
      " |      Reverse *IN PLACE*.\n",
      " |  \n",
      " |  sort(self, /, *, key=None, reverse=False)\n",
      " |      Sort the list in ascending order and return None.\n",
      " |      \n",
      " |      The sort is in-place (i.e. the list itself is modified) and stable (i.e. the\n",
      " |      order of two equal elements is maintained).\n",
      " |      \n",
      " |      If a key function is given, apply it once to each list item and sort them,\n",
      " |      ascending or descending, according to their function values.\n",
      " |      \n",
      " |      The reverse flag can be set to sort in descending order.\n",
      " |  \n",
      " |  ----------------------------------------------------------------------\n",
      " |  Class methods defined here:\n",
      " |  \n",
      " |  __class_getitem__(...) from builtins.type\n",
      " |      See PEP 585\n",
      " |  \n",
      " |  ----------------------------------------------------------------------\n",
      " |  Static methods defined here:\n",
      " |  \n",
      " |  __new__(*args, **kwargs) from builtins.type\n",
      " |      Create and return a new object.  See help(type) for accurate signature.\n",
      " |  \n",
      " |  ----------------------------------------------------------------------\n",
      " |  Data and other attributes defined here:\n",
      " |  \n",
      " |  __hash__ = None\n",
      "\n"
     ]
    }
   ],
   "source": [
    "help(C)"
   ]
  },
  {
   "cell_type": "code",
   "execution_count": 78,
   "id": "4f2e5365",
   "metadata": {},
   "outputs": [
    {
     "data": {
      "text/plain": [
       "'S1'"
      ]
     },
     "execution_count": 78,
     "metadata": {},
     "output_type": "execute_result"
    }
   ],
   "source": [
    "# Dictionaries\n",
    "z={\"2005\":\"S1\", \"2010\":\"S2\", \"2020\":\"S3\"}\n",
    "zz={\"SIM A\":1, \"SIM B\":2, \"SIM C\": 3}\n",
    "z['2005']"
   ]
  },
  {
   "cell_type": "code",
   "execution_count": 79,
   "id": "3b770269",
   "metadata": {},
   "outputs": [
    {
     "data": {
      "text/plain": [
       "3"
      ]
     },
     "execution_count": 79,
     "metadata": {},
     "output_type": "execute_result"
    }
   ],
   "source": [
    "zz[\"SIM C\"]"
   ]
  },
  {
   "cell_type": "code",
   "execution_count": 80,
   "id": "296948eb",
   "metadata": {},
   "outputs": [
    {
     "data": {
      "text/plain": [
       "{'SIM A': 1, 'SIM C': 3}"
      ]
     },
     "execution_count": 80,
     "metadata": {},
     "output_type": "execute_result"
    }
   ],
   "source": [
    "del(zz[\"SIM B\"])\n",
    "zz"
   ]
  },
  {
   "cell_type": "code",
   "execution_count": 81,
   "id": "3550307a",
   "metadata": {},
   "outputs": [
    {
     "data": {
      "text/plain": [
       "True"
      ]
     },
     "execution_count": 81,
     "metadata": {},
     "output_type": "execute_result"
    }
   ],
   "source": [
    "\"2005\" in z"
   ]
  },
  {
   "cell_type": "code",
   "execution_count": 82,
   "id": "b6ebadf6",
   "metadata": {},
   "outputs": [
    {
     "data": {
      "text/plain": [
       "dict_keys(['2005', '2010', '2020'])"
      ]
     },
     "execution_count": 82,
     "metadata": {},
     "output_type": "execute_result"
    }
   ],
   "source": [
    "z.keys()"
   ]
  },
  {
   "cell_type": "code",
   "execution_count": 83,
   "id": "38a11dcb",
   "metadata": {},
   "outputs": [
    {
     "data": {
      "text/plain": [
       "dict_values([1, 3])"
      ]
     },
     "execution_count": 83,
     "metadata": {},
     "output_type": "execute_result"
    }
   ],
   "source": [
    "zz.values()"
   ]
  },
  {
   "cell_type": "code",
   "execution_count": 85,
   "id": "3be95fbc",
   "metadata": {},
   "outputs": [
    {
     "name": "stdout",
     "output_type": "stream",
     "text": [
      "{1, 2, 3, 4, 5}\n"
     ]
    }
   ],
   "source": [
    "exlist=[1,2,1,1,3,4,5]\n",
    "exset=set(exlist)\n",
    "print(exset)"
   ]
  },
  {
   "cell_type": "code",
   "execution_count": 98,
   "id": "b6459eef",
   "metadata": {},
   "outputs": [
    {
     "name": "stdout",
     "output_type": "stream",
     "text": [
      "{1, 2, 3, 4, 5, 6}\n"
     ]
    }
   ],
   "source": [
    "exset.add(6)\n",
    "# exset.remove('6,7')\n",
    "print(exset)"
   ]
  },
  {
   "cell_type": "code",
   "execution_count": 96,
   "id": "0c901af5",
   "metadata": {},
   "outputs": [
    {
     "name": "stdout",
     "output_type": "stream",
     "text": [
      "{4, 5, 6, 7}\n"
     ]
    }
   ],
   "source": [
    "exlist2=[4,5,6,7]\n",
    "exset2=set(exlist2)\n",
    "print(exset2)"
   ]
  },
  {
   "cell_type": "code",
   "execution_count": 100,
   "id": "1686e690",
   "metadata": {},
   "outputs": [
    {
     "name": "stdout",
     "output_type": "stream",
     "text": [
      "{4, 5, 6}\n"
     ]
    }
   ],
   "source": [
    "exset3=exset&exset2\n",
    "print(exset3)"
   ]
  },
  {
   "cell_type": "code",
   "execution_count": 101,
   "id": "a3404172",
   "metadata": {},
   "outputs": [
    {
     "data": {
      "text/plain": [
       "{1, 2, 3, 4, 5, 6, 7}"
      ]
     },
     "execution_count": 101,
     "metadata": {},
     "output_type": "execute_result"
    }
   ],
   "source": [
    "exset.union(exset2)"
   ]
  },
  {
   "cell_type": "code",
   "execution_count": 102,
   "id": "5195fde5",
   "metadata": {},
   "outputs": [
    {
     "data": {
      "text/plain": [
       "False"
      ]
     },
     "execution_count": 102,
     "metadata": {},
     "output_type": "execute_result"
    }
   ],
   "source": [
    "exset2.issubset(exset)"
   ]
  },
  {
   "cell_type": "code",
   "execution_count": null,
   "id": "d9eea91d",
   "metadata": {},
   "outputs": [],
   "source": []
  }
 ],
 "metadata": {
  "kernelspec": {
   "display_name": "Python 3 (ipykernel)",
   "language": "python",
   "name": "python3"
  },
  "language_info": {
   "codemirror_mode": {
    "name": "ipython",
    "version": 3
   },
   "file_extension": ".py",
   "mimetype": "text/x-python",
   "name": "python",
   "nbconvert_exporter": "python",
   "pygments_lexer": "ipython3",
   "version": "3.10.12"
  }
 },
 "nbformat": 4,
 "nbformat_minor": 5
}
